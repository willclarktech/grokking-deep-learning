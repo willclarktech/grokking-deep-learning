{
 "cells": [
  {
   "cell_type": "code",
   "execution_count": 1,
   "metadata": {},
   "outputs": [],
   "source": [
    "# Convolutions"
   ]
  },
  {
   "cell_type": "code",
   "execution_count": 2,
   "metadata": {},
   "outputs": [
    {
     "name": "stderr",
     "output_type": "stream",
     "text": [
      "Using TensorFlow backend.\n"
     ]
    }
   ],
   "source": [
    "import numpy as np\n",
    "from keras.datasets import mnist"
   ]
  },
  {
   "cell_type": "code",
   "execution_count": 3,
   "metadata": {},
   "outputs": [],
   "source": [
    "np.random.seed(1)"
   ]
  },
  {
   "cell_type": "code",
   "execution_count": 4,
   "metadata": {},
   "outputs": [],
   "source": [
    "(x_train, y_train), (x_test, y_test) = mnist.load_data()"
   ]
  },
  {
   "cell_type": "code",
   "execution_count": 5,
   "metadata": {},
   "outputs": [],
   "source": [
    "images = x_train[0:1000].reshape(1000, 28*28) / 255\n",
    "labels = y_train[0:1000]\n",
    "one_hot_labels = np.zeros((len(labels), 10))\n",
    "for i, l in enumerate(labels):\n",
    "    one_hot_labels[i][l] = 1\n",
    "labels = one_hot_labels"
   ]
  },
  {
   "cell_type": "code",
   "execution_count": 6,
   "metadata": {},
   "outputs": [],
   "source": [
    "test_images = x_test.reshape(len(x_test), 28*28) / 255\n",
    "test_labels = np.zeros((len(y_test), 10))\n",
    "for i, l in enumerate(y_test):\n",
    "    test_labels[i][l] = 1"
   ]
  },
  {
   "cell_type": "code",
   "execution_count": 7,
   "metadata": {},
   "outputs": [],
   "source": [
    "def tanh(x):\n",
    "    return np.tanh(x)\n",
    "def tanh2deriv(output):\n",
    "    return 1 - (output ** 2)\n",
    "def softmax(x):\n",
    "    temp = np.exp(x)\n",
    "    return temp / np.sum(temp, axis=1, keepdims=True)"
   ]
  },
  {
   "cell_type": "code",
   "execution_count": 8,
   "metadata": {},
   "outputs": [],
   "source": [
    "def get_image_section(layer, row_from, row_to, col_from, col_to):\n",
    "    section = layer[:, row_from:row_to, col_from:col_to]\n",
    "    return section.reshape(-1, 1, row_to - row_from, col_to - col_from)"
   ]
  },
  {
   "cell_type": "code",
   "execution_count": 9,
   "metadata": {
    "scrolled": true
   },
   "outputs": [],
   "source": [
    "alpha = 2\n",
    "iterations = 300\n",
    "pixels_per_image = 784\n",
    "num_labels = 10\n",
    "batch_size = 100\n",
    "\n",
    "input_rows = 28\n",
    "input_cols = 28\n",
    "kernel_rows = 3\n",
    "kernel_cols = 3\n",
    "num_kernels = 6\n",
    "\n",
    "hidden_size = ((input_rows - kernel_rows) * (input_cols - kernel_cols) * num_kernels)\n",
    "kernels = 0.02 * np.random.random((kernel_rows * kernel_cols, num_kernels)) - 0.01\n",
    "weights_1_2 = 0.2 * np.random.random((hidden_size, num_labels)) - 0.1"
   ]
  },
  {
   "cell_type": "code",
   "execution_count": 10,
   "metadata": {
    "scrolled": true
   },
   "outputs": [
    {
     "name": "stdout",
     "output_type": "stream",
     "text": [
      "I:9 Train-Acc:0.466000 Test-Acc:0.599100\n",
      "I:19 Train-Acc:0.714000 Test-Acc:0.777600\n",
      "I:29 Train-Acc:0.785000 Test-Acc:0.811200\n",
      "I:39 Train-Acc:0.819000 Test-Acc:0.826000\n",
      "I:49 Train-Acc:0.855000 Test-Acc:0.835700\n",
      "I:59 Train-Acc:0.859000 Test-Acc:0.844800\n",
      "I:69 Train-Acc:0.865000 Test-Acc:0.848800\n",
      "I:79 Train-Acc:0.862000 Test-Acc:0.853200\n",
      "I:89 Train-Acc:0.880000 Test-Acc:0.854800\n",
      "I:99 Train-Acc:0.873000 Test-Acc:0.857100\n",
      "I:109 Train-Acc:0.877000 Test-Acc:0.858700\n",
      "I:119 Train-Acc:0.899000 Test-Acc:0.860400\n",
      "I:129 Train-Acc:0.888000 Test-Acc:0.862300\n",
      "I:139 Train-Acc:0.905000 Test-Acc:0.863700\n",
      "I:149 Train-Acc:0.898000 Test-Acc:0.864500\n",
      "I:159 Train-Acc:0.910000 Test-Acc:0.864100\n",
      "I:169 Train-Acc:0.914000 Test-Acc:0.865100\n",
      "I:179 Train-Acc:0.916000 Test-Acc:0.866200\n",
      "I:189 Train-Acc:0.918000 Test-Acc:0.866000\n",
      "I:199 Train-Acc:0.919000 Test-Acc:0.865900\n",
      "I:209 Train-Acc:0.920000 Test-Acc:0.865300\n",
      "I:219 Train-Acc:0.921000 Test-Acc:0.867000\n",
      "I:229 Train-Acc:0.931000 Test-Acc:0.867000\n",
      "I:239 Train-Acc:0.926000 Test-Acc:0.867100\n",
      "I:249 Train-Acc:0.933000 Test-Acc:0.867900\n",
      "I:259 Train-Acc:0.935000 Test-Acc:0.868300\n",
      "I:269 Train-Acc:0.934000 Test-Acc:0.869300\n",
      "I:279 Train-Acc:0.925000 Test-Acc:0.868600\n",
      "I:289 Train-Acc:0.933000 Test-Acc:0.869000\n",
      "I:299 Train-Acc:0.937000 Test-Acc:0.868100\n"
     ]
    }
   ],
   "source": [
    "for j in range(iterations):\n",
    "    correct_count = 0\n",
    "    for i in range(len(images) // batch_size):\n",
    "        batch_start = batch_size * i\n",
    "        batch_end = batch_size * (i+1)\n",
    "        layer_0 = images[batch_start:batch_end]\n",
    "        layer_0 = layer_0.reshape(layer_0.shape[0], 28, 28)\n",
    "        \n",
    "        sections = list()\n",
    "        for row_start in range(layer_0.shape[1] - kernel_rows):\n",
    "            for col_start in range(layer_0.shape[2] - kernel_cols):\n",
    "                section = get_image_section(\n",
    "                    layer_0,\n",
    "                    row_start,\n",
    "                    row_start + kernel_rows,\n",
    "                    col_start,\n",
    "                    col_start + kernel_cols\n",
    "                )\n",
    "                sections.append(section)\n",
    "        \n",
    "        expanded_input = np.concatenate(sections, axis=1)\n",
    "        expanded_shape = expanded_input.shape\n",
    "        flattened_input = expanded_input.reshape(expanded_shape[0] * expanded_shape[1], -1)\n",
    "        \n",
    "        kernel_output = flattened_input.dot(kernels)\n",
    "        layer_1 = tanh(kernel_output.reshape(expanded_shape[0], -1))\n",
    "        dropout_mask = np.random.randint(2, size=layer_1.shape)\n",
    "        layer_1 *= dropout_mask * 2\n",
    "        layer_2 = softmax(layer_1.dot(weights_1_2))\n",
    "        \n",
    "        for k in range(batch_size):\n",
    "            label_set = labels[batch_start+k:batch_start+k+1]\n",
    "            correct_count += np.argmax(layer_2[k:k+1]) == np.argmax(label_set)\n",
    "            \n",
    "        layer_2_delta = (layer_2 - labels[batch_start:batch_end]) / (batch_size * layer_2.shape[0])\n",
    "        layer_1_delta = layer_2_delta.dot(weights_1_2.T) * tanh2deriv(layer_1)\n",
    "        layer_1_delta *= dropout_mask\n",
    "        \n",
    "        weights_1_2 -= alpha * layer_1.T.dot(layer_2_delta)\n",
    "        layer_1_delta_reshape = layer_1_delta.reshape(kernel_output.shape)\n",
    "        kernels_update = flattened_input.T.dot(layer_1_delta_reshape)\n",
    "        kernels -= alpha * kernels_update\n",
    "        \n",
    "    test_correct_count = 0\n",
    "    for i in range(len(test_images)):\n",
    "        layer_0 = test_images[i:i+1]\n",
    "        layer_0 = layer_0.reshape(layer_0.shape[0], 28, 28)\n",
    "        \n",
    "        sections = list()\n",
    "        for row_start in range(layer_0.shape[1] - kernel_rows):\n",
    "            for col_start in range(layer_0.shape[2] - kernel_cols):\n",
    "                section = get_image_section(\n",
    "                    layer_0,\n",
    "                    row_start,\n",
    "                    row_start + kernel_rows,\n",
    "                    col_start,\n",
    "                    col_start + kernel_cols\n",
    "                )\n",
    "                sections.append(section)\n",
    "        \n",
    "        expanded_input = np.concatenate(sections, axis=1)\n",
    "        expanded_shape = expanded_input.shape\n",
    "        flattened_input = expanded_input.reshape(expanded_shape[0] * expanded_shape[1], -1)\n",
    "        \n",
    "        kernel_output = flattened_input.dot(kernels)\n",
    "        layer_1 = tanh(kernel_output.reshape(expanded_shape[0], -1))\n",
    "        layer_2 = layer_1.dot(weights_1_2)\n",
    "        \n",
    "        test_correct_count += np.argmax(layer_2) == np.argmax(test_labels[i:i+1])\n",
    "        \n",
    "    if j % 10 == 9:\n",
    "        print(\"I:%d Train-Acc:%f Test-Acc:%f\" % (j, correct_count/len(images), test_correct_count/len(test_images)))\n"
   ]
  },
  {
   "cell_type": "code",
   "execution_count": null,
   "metadata": {},
   "outputs": [],
   "source": []
  }
 ],
 "metadata": {
  "kernelspec": {
   "display_name": "Python 3",
   "language": "python",
   "name": "python3"
  },
  "language_info": {
   "codemirror_mode": {
    "name": "ipython",
    "version": 3
   },
   "file_extension": ".py",
   "mimetype": "text/x-python",
   "name": "python",
   "nbconvert_exporter": "python",
   "pygments_lexer": "ipython3",
   "version": "3.7.4"
  }
 },
 "nbformat": 4,
 "nbformat_minor": 2
}
