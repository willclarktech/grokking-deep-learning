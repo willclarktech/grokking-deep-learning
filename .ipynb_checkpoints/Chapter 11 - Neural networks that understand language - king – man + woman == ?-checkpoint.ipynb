{
 "cells": [
  {
   "cell_type": "code",
   "execution_count": 1,
   "metadata": {},
   "outputs": [],
   "source": [
    "# One-hot encoding"
   ]
  },
  {
   "cell_type": "code",
   "execution_count": 2,
   "metadata": {},
   "outputs": [],
   "source": [
    "import numpy as np\n",
    "np.random.seed(1)"
   ]
  },
  {
   "cell_type": "code",
   "execution_count": 3,
   "metadata": {},
   "outputs": [],
   "source": [
    "onehots = {}\n",
    "onehots['cat'] = np.array([1,0,0,0])\n",
    "onehots['the'] = np.array([0,1,0,0])\n",
    "onehots['dog'] = np.array([0,0,1,0])\n",
    "onehots['sat'] = np.array([0,0,0,1])"
   ]
  },
  {
   "cell_type": "code",
   "execution_count": 4,
   "metadata": {},
   "outputs": [],
   "source": [
    "sentence = ['the', 'cat', 'sat']"
   ]
  },
  {
   "cell_type": "code",
   "execution_count": 5,
   "metadata": {},
   "outputs": [],
   "source": [
    "encoding = onehots[sentence[0]] + onehots[sentence[1]] + onehots[sentence[2]]"
   ]
  },
  {
   "cell_type": "code",
   "execution_count": 6,
   "metadata": {},
   "outputs": [
    {
     "name": "stdout",
     "output_type": "stream",
     "text": [
      "Sent encoding: [1 1 0 1]\n"
     ]
    }
   ],
   "source": [
    "print(\"Sent encoding: %s\" % str(encoding))"
   ]
  },
  {
   "cell_type": "code",
   "execution_count": 7,
   "metadata": {},
   "outputs": [],
   "source": [
    "# Preprocessing"
   ]
  },
  {
   "cell_type": "code",
   "execution_count": 8,
   "metadata": {},
   "outputs": [],
   "source": [
    "f = open(\"data/imdb/reviews.txt\")\n",
    "raw_reviews = f.readlines()\n",
    "f.close()"
   ]
  },
  {
   "cell_type": "code",
   "execution_count": 9,
   "metadata": {},
   "outputs": [],
   "source": [
    "f = open(\"data/imdb/labels.txt\")\n",
    "raw_labels = f.readlines()\n",
    "f.close()"
   ]
  },
  {
   "cell_type": "code",
   "execution_count": 10,
   "metadata": {},
   "outputs": [],
   "source": [
    "token_sets = [set(filter(lambda token: len(token) > 0, review.split(\" \"))) for review in raw_reviews]"
   ]
  },
  {
   "cell_type": "code",
   "execution_count": 11,
   "metadata": {},
   "outputs": [],
   "source": [
    "vocab_set = set()\n",
    "for token_set in token_sets:\n",
    "    for word in token_set:\n",
    "        vocab_set.add(word)\n",
    "vocab = list(vocab_set)"
   ]
  },
  {
   "cell_type": "code",
   "execution_count": 12,
   "metadata": {},
   "outputs": [],
   "source": [
    "word2index = {word: i for i, word in enumerate(vocab)}"
   ]
  },
  {
   "cell_type": "code",
   "execution_count": 13,
   "metadata": {},
   "outputs": [],
   "source": [
    "input_dataset = [list(set([word2index[token] for token in token_set])) for token_set in token_sets]"
   ]
  },
  {
   "cell_type": "code",
   "execution_count": 14,
   "metadata": {},
   "outputs": [],
   "source": [
    "target_dataset = [int(label == \"positive\\n\") for label in raw_labels]"
   ]
  },
  {
   "cell_type": "code",
   "execution_count": 15,
   "metadata": {},
   "outputs": [],
   "source": [
    "# Embedding layer"
   ]
  },
  {
   "cell_type": "code",
   "execution_count": 16,
   "metadata": {},
   "outputs": [],
   "source": [
    "# from random import randint\n",
    "# num_reviews = 6000\n",
    "# vocab = range(666)\n",
    "# input_dataset = [[randint(0, 1) for _ in range(len(vocab))] for _ in range(num_reviews)]\n",
    "# input_dataset[0:2]\n",
    "# target_dataset = [randint(0, 1) for _ in range(num_reviews)]"
   ]
  },
  {
   "cell_type": "code",
   "execution_count": 17,
   "metadata": {},
   "outputs": [],
   "source": [
    "def sigmoid(x):\n",
    "    return 1 / (1 + np.exp(-x))"
   ]
  },
  {
   "cell_type": "code",
   "execution_count": 18,
   "metadata": {},
   "outputs": [],
   "source": [
    "alpha = 0.01\n",
    "iterations = 2\n",
    "hidden_size = 100\n",
    "weights_0_1 = 0.2 * np.random.random((len(vocab), hidden_size)) - 0.1\n",
    "weights_1_2 = 0.2 * np.random.random((hidden_size, 1)) - 0.1"
   ]
  },
  {
   "cell_type": "code",
   "execution_count": 19,
   "metadata": {},
   "outputs": [
    {
     "name": "stdout",
     "output_type": "stream",
     "text": [
      "I:23999 Training accuracy:0.832000\n",
      "I:23999 Training accuracy:0.866354\n"
     ]
    }
   ],
   "source": [
    "correct = 0\n",
    "total = 0\n",
    "for iteration in range(iterations):\n",
    "    for i in range(len(input_dataset) - 1000):\n",
    "        x = input_dataset[i]\n",
    "        y = target_dataset[i]\n",
    "\n",
    "        layer_1 = sigmoid(np.sum(weights_0_1[x], axis=0))\n",
    "        layer_2 = sigmoid(layer_1.dot(weights_1_2))\n",
    "        \n",
    "        layer_2_delta = layer_2 - y\n",
    "        layer_1_delta = layer_2_delta.dot(weights_1_2.T)\n",
    "        \n",
    "        weights_0_1[x] -= layer_1_delta * alpha\n",
    "        weights_1_2 -= np.outer(layer_1, layer_2_delta) * alpha\n",
    "        \n",
    "        if np.abs(layer_2_delta) < 0.5:\n",
    "            correct += 1\n",
    "        total += 1\n",
    "\n",
    "    if iteration % 1 == 0:\n",
    "        accuracy = correct/total\n",
    "        print(\"I:%d Training accuracy:%f\" % (i, accuracy))"
   ]
  },
  {
   "cell_type": "code",
   "execution_count": 20,
   "metadata": {},
   "outputs": [
    {
     "name": "stdout",
     "output_type": "stream",
     "text": [
      "Test accuracy: 0.852000\n"
     ]
    }
   ],
   "source": [
    "correct = 0\n",
    "total = 0\n",
    "\n",
    "for i in range(len(input_dataset) - 1000, len(input_dataset)):\n",
    "    x = input_dataset[i]\n",
    "    y = target_dataset[i]\n",
    "\n",
    "    layer_1 = sigmoid(np.sum(weights_0_1[x], axis=0))\n",
    "    layer_2 = sigmoid(np.dot(layer_1, weights_1_2))\n",
    "    \n",
    "    if np.abs(layer_2 - y) < 0.5:\n",
    "        correct += 1\n",
    "    total += 1\n",
    "\n",
    "accuracy = correct/total\n",
    "print(\"Test accuracy: %f\" % accuracy)"
   ]
  },
  {
   "cell_type": "code",
   "execution_count": 21,
   "metadata": {},
   "outputs": [],
   "source": [
    "# Visualising weight similarity"
   ]
  },
  {
   "cell_type": "code",
   "execution_count": 22,
   "metadata": {},
   "outputs": [],
   "source": [
    "from collections import Counter\n",
    "import math"
   ]
  },
  {
   "cell_type": "code",
   "execution_count": 23,
   "metadata": {},
   "outputs": [],
   "source": [
    "def similar(target):\n",
    "    target_index = word2index[target]\n",
    "    scores = Counter()\n",
    "    for word, i in word2index.items():\n",
    "        raw_difference = weights_0_1[i] - weights_0_1[target_index]\n",
    "        squared_difference = raw_difference ** 2\n",
    "        scores[word] = -math.sqrt(sum(squared_difference))\n",
    "    \n",
    "    return scores.most_common(10)"
   ]
  },
  {
   "cell_type": "code",
   "execution_count": 24,
   "metadata": {},
   "outputs": [
    {
     "name": "stdout",
     "output_type": "stream",
     "text": [
      "[('beautiful', -0.0), ('delightful', -0.7133502715095305), ('appreciated', -0.7310171593681725), ('fun', -0.7369190245267592), ('beautifully', -0.7399257218009643), ('sent', -0.7422146366246041), ('highly', -0.7452677172326826), ('available', -0.7466535150483408), ('cry', -0.7511882418835696), ('hilarious', -0.7574218781546053)]\n"
     ]
    }
   ],
   "source": [
    "print(similar('beautiful'))"
   ]
  },
  {
   "cell_type": "code",
   "execution_count": 25,
   "metadata": {},
   "outputs": [
    {
     "name": "stdout",
     "output_type": "stream",
     "text": [
      "[('terrible', -0.0), ('fails', -0.7513469884730295), ('dull', -0.7712501481783576), ('avoid', -0.7733593396719871), ('annoying', -0.7985918300886892), ('lacks', -0.8075376224077705), ('mess', -0.8075708896763902), ('redeeming', -0.8236089249033156), ('poor', -0.8240048422924088), ('disappointing', -0.8259852293379486)]\n"
     ]
    }
   ],
   "source": [
    "print(similar('terrible'))"
   ]
  },
  {
   "cell_type": "code",
   "execution_count": 26,
   "metadata": {},
   "outputs": [],
   "source": [
    "# Filling in the blank"
   ]
  },
  {
   "cell_type": "code",
   "execution_count": 27,
   "metadata": {},
   "outputs": [],
   "source": [
    "import random\n",
    "random.seed(1)"
   ]
  },
  {
   "cell_type": "code",
   "execution_count": 28,
   "metadata": {},
   "outputs": [],
   "source": [
    "tokens = list(map(lambda x:x.split(\" \"), raw_reviews))\n",
    "wordcount = Counter()\n",
    "\n",
    "for sent in tokens:\n",
    "    for word in sent:\n",
    "        wordcount[word] -= 1\n",
    "\n",
    "vocab = list(set(map(lambda x:x[0], wordcount.most_common())))\n",
    "word2index = {word: i for i, word in enumerate(vocab)}"
   ]
  },
  {
   "cell_type": "code",
   "execution_count": 29,
   "metadata": {},
   "outputs": [],
   "source": [
    "concatenated = list()\n",
    "input_dataset = list()\n",
    "for sent in tokens:\n",
    "    sent_indices = list()\n",
    "    for word in sent:\n",
    "        sent_indices.append(word2index[word])\n",
    "        concatenated.append(word2index[word])\n",
    "    input_dataset.append(sent_indices)\n",
    "    \n",
    "concatenated = np.array(concatenated)"
   ]
  },
  {
   "cell_type": "code",
   "execution_count": 30,
   "metadata": {},
   "outputs": [],
   "source": [
    "random.shuffle(input_dataset)"
   ]
  },
  {
   "cell_type": "code",
   "execution_count": 31,
   "metadata": {},
   "outputs": [],
   "source": [
    "alpha = 0.05\n",
    "iterations = 2\n",
    "hidden_size = 50\n",
    "window = 2\n",
    "negative = 5\n",
    "\n",
    "weights_0_1 = (np.random.rand(len(vocab), hidden_size) - 0.5) * 0.2\n",
    "weights_1_2 = np.random.rand(len(vocab), hidden_size) * 0"
   ]
  },
  {
   "cell_type": "code",
   "execution_count": 32,
   "metadata": {},
   "outputs": [],
   "source": [
    "layer_2_target = np.zeros(negative + 1)\n",
    "layer_2_target[0] = 1"
   ]
  },
  {
   "cell_type": "code",
   "execution_count": 33,
   "metadata": {
    "scrolled": true
   },
   "outputs": [
    {
     "name": "stdout",
     "output_type": "stream",
     "text": [
      "Progress:0.000000 [('terrible', -0.0), ('dadaist', -0.3560406276674067), ('counterbalancing', -0.3611067459837245), ('headley', -0.3679147406942775), ('ennobling', -0.36878247314345514), ('nicholette', -0.3703847083028422), ('wendel', -0.3726105382130416), ('duryea', -0.37400762631273726), ('squabble', -0.38176151418056453), ('rwtd', -0.38336877562774613)]\n",
      "\n",
      "Progress:0.005000 [('terrible', -0.0), ('vicenzo', -0.49165400965934686), ('prince', -0.4927664327351607), ('seven', -0.5106935792474491), ('duryea', -0.5138560214349656), ('individual', -0.5194230738053703), ('pulled', -0.5252411518413801), ('wars', -0.5291864961731348), ('baby', -0.531591489776913), ('veteran', -0.5337380163272933)]\n",
      "\n",
      "Progress:0.010000 [('terrible', -0.0), ('believable', -0.6333339508611329), ('batman', -0.6404136335462441), ('exciting', -0.6533683766809056), ('hilarious', -0.6651275291768081), ('c', -0.6678931578238068), ('visually', -0.6715307394413343), ('mattei', -0.6865790310020363), ('martin', -0.6922210113531299), ('toby', -0.692760708980427)]\n",
      "\n",
      "Progress:0.015000 [('terrible', -0.0), ('exciting', -0.7130028532947127), ('zombies', -0.752371271828035), ('jeanie', -0.7641166603527576), ('halloween', -0.7814466796040036), ('prizzi', -0.7829021154470985), ('visually', -0.8014040215890511), ('honor', -0.801801565694147), ('executed', -0.812825416257012), ('warren', -0.8213166898027352)]\n",
      "\n",
      "Progress:0.020000 [('terrible', -0.0), ('exciting', -0.9152055878554173), ('scary', -0.9312392851867), ('fantastic', -1.0136477908736616), ('disappointing', -1.0149116593488738), ('cinematography', -1.0179082157363146), ('perfectly', -1.0314332321135373), ('impressive', -1.0487433461402407), ('brilliant', -1.0558839079289708), ('harry', -1.0604444658935726)]\n",
      "\n",
      "Progress:0.025000 [('terrible', -0.0), ('awful', -1.0975551680418818), ('brilliant', -1.1342666199681632), ('hilarious', -1.191154879062091), ('scary', -1.2568391891793165), ('fantastic', -1.27576867695846), ('exciting', -1.2822528623571914), ('awesome', -1.305522881868836), ('disappointing', -1.3104657711834344), ('superb', -1.312513896800175)]\n",
      "\n",
      "Progress:0.030000 [('terrible', -0.0), ('awful', -1.3090052746310503), ('brilliant', -1.3331748594577681), ('okay', -1.3880433592624701), ('hilarious', -1.4150255013938697), ('fantastic', -1.437191422930495), ('exciting', -1.46124867294468), ('ridiculous', -1.4712826782548745), ('effective', -1.474006820496951), ('awesome', -1.4829443235013438)]\n",
      "\n",
      "Progress:0.035000 [('terrible', -0.0), ('awful', -1.4308717272222273), ('brilliant', -1.4641696827905195), ('okay', -1.5081645901880467), ('outstanding', -1.6196312219709308), ('awesome', -1.6411375391294982), ('hilarious', -1.6461680123248177), ('ridiculous', -1.6898973160055257), ('c', -1.6935022655851608), ('v', -1.7529583819467767)]\n",
      "\n",
      "Progress:0.040000 [('terrible', -0.0), ('brilliant', -1.3264302485119717), ('awful', -1.386676156758837), ('okay', -1.5848602248219446), ('outstanding', -1.6093455587044898), ('horrible', -1.651490013844374), ('fantastic', -1.6578617474504862), ('hilarious', -1.6926267150743466), ('awesome', -1.6980538469859516), ('totally', -1.7008788146696678)]\n",
      "\n",
      "Progress:0.045000 [('terrible', -0.0), ('brilliant', -1.532438603462619), ('ridiculous', -1.7004220656758722), ('horrible', -1.705214519898816), ('awful', -1.7240644954987285), ('fantastic', -1.742955314650326), ('hilarious', -1.7526032373241736), ('weak', -1.7998774717423975), ('outstanding', -1.800692269506899), ('okay', -1.8076966505278764)]\n",
      "\n",
      "Progress:0.050000 [('terrible', -0.0), ('superb', -1.610300162243328), ('awful', -1.6523462061910317), ('brilliant', -1.6632334200683412), ('ridiculous', -1.6747133069590698), ('fantastic', -1.6988907499741073), ('horrible', -1.7646037634281324), ('hilarious', -1.776372733524604), ('okay', -1.7894010935182965), ('weak', -1.8355473729425178)]\n",
      "\n",
      "Progress:0.055000 [('terrible', -0.0), ('horrible', -1.590467673691237), ('superb', -1.6061567346393348), ('fantastic', -1.636556370320767), ('brilliant', -1.7200240531029287), ('ridiculous', -1.7237877103404025), ('weak', -1.764012802470734), ('terrific', -1.769331658778302), ('magnificent', -1.8428399289281432), ('pure', -1.8510143121621976)]\n",
      "\n",
      "Progress:0.060000 [('terrible', -0.0), ('fantastic', -1.471112739463948), ('superb', -1.509404765189823), ('brilliant', -1.6090750567844363), ('terrific', -1.6733761018206794), ('pure', -1.6760270463041718), ('horrible', -1.6997178729672955), ('weak', -1.736879933580268), ('convincing', -1.7501270084785054), ('magnificent', -1.7712641226986308)]\n",
      "\n",
      "Progress:0.065000 [('terrible', -0.0), ('horrible', -1.6920764744985028), ('convincing', -1.852337896413024), ('fantastic', -1.8562012116982811), ('awful', -1.8885568166522837), ('weak', -1.908486462225634), ('pleasant', -1.9113856642006382), ('filmmaker', -1.9155639085517422), ('superb', -1.92734831732619), ('pure', -1.930108112463047)]\n",
      "\n",
      "Progress:0.070000 [('terrible', -0.0), ('horrible', -1.7669395825367538), ('magnificent', -1.8550221461387915), ('remarkable', -1.856535886678708), ('pleasant', -1.873377310662964), ('weak', -1.8764881777735065), ('brilliant', -1.9069980556113777), ('filmmaker', -1.9171445621656906), ('convincing', -1.9204845819978367), ('pathetic', -1.928968983590794)]\n",
      "\n",
      "Progress:0.075000 [('terrible', -0.0), ('horrible', -1.9431749130821852), ('fantastic', -2.067282037119247), ('remarkable', -2.1862397839291066), ('pathetic', -2.188545944416829), ('pleasant', -2.1991461710686595), ('dreadful', -2.203455191536424), ('magnificent', -2.222440525985959), ('wonderfully', -2.24757447356779), ('hilarious', -2.2641884487255144)]\n",
      "\n",
      "Progress:0.080000 [('terrible', -0.0), ('fantastic', -2.066868239799287), ('horrible', -2.1717043678679673), ('terrific', -2.2172676964656217), ('fine', -2.3529780638801303), ('brilliant', -2.354094069435818), ('hilarious', -2.3573613721964164), ('remarkable', -2.369538185165317), ('superb', -2.3855473530358324), ('essentially', -2.3973296795811727)]\n",
      "\n",
      "Progress:0.085000 [('terrible', -0.0), ('fantastic', -1.9965036041138013), ('horrible', -2.21180316557346), ('weak', -2.238650827336449), ('remarkable', -2.299451067524886), ('terrific', -2.3069646376170065), ('dreadful', -2.3161156785602284), ('thin', -2.320510571844922), ('convincing', -2.3253662169763474), ('wonderfully', -2.345426328708397)]\n",
      "\n",
      "Progress:0.090000 [('terrible', -0.0), ('horrible', -2.1020440144230914), ('fantastic', -2.1940590669431685), ('brilliant', -2.285034112269489), ('remarkable', -2.3208639293845237), ('magnificent', -2.33203352448014), ('terrific', -2.3467701352611026), ('dreadful', -2.346889125054119), ('weak', -2.34925904868603), ('fine', -2.3602204406565823)]\n",
      "\n",
      "Progress:0.095000 [('terrible', -0.0), ('brilliant', -2.0791005133881755), ('horrible', -2.2183137446801653), ('fantastic', -2.231083297957054), ('remarkable', -2.2477239875686297), ('magnificent', -2.3149357133400477), ('dreadful', -2.3192993040497147), ('tragic', -2.3390042490854546), ('terrific', -2.3610532594808755), ('pleasant', -2.3865481964322734)]\n",
      "\n",
      "Progress:0.100000 [('terrible', -0.0), ('brilliant', -2.1311856639298297), ('dreadful', -2.283552316187797), ('horrible', -2.311296312446961), ('fantastic', -2.3165671226862945), ('remarkable', -2.3208671978811544), ('magnificent', -2.3529504072516203), ('wonderfully', -2.360095623042124), ('disappointing', -2.3890558355296494), ('pleasant', -2.415897832081654)]\n",
      "\n",
      "Progress:0.105000 [('terrible', -0.0), ('dreadful', -2.2308535141621486), ('brilliant', -2.2401036754868415), ('thin', -2.433326632218903), ('magnificent', -2.459267743967028), ('remarkable', -2.4700052007654816), ('lame', -2.495751282334519), ('tragic', -2.530134896356236), ('fantastic', -2.537259911348196), ('pathetic', -2.5475771609277795)]\n",
      "\n",
      "Progress:0.110000 [('terrible', -0.0), ('brilliant', -2.2855124285995685), ('dreadful', -2.4240731565136917), ('lame', -2.5733551821575853), ('weak', -2.5742256184738697), ('thin', -2.603733729233266), ('remarkable', -2.623517122630076), ('fantastic', -2.6661114504111354), ('magnificent', -2.6782579362635794), ('tragic', -2.68584821929267)]\n",
      "\n",
      "Progress:0.115000 [('terrible', -0.0), ('brilliant', -2.305238576196545), ('horrible', -2.5264947145100134), ('lame', -2.5789135609975493), ('dreadful', -2.587138991452205), ('remarkable', -2.5982239265635845), ('weak', -2.6053984297562436), ('thin', -2.666751727529217), ('fantastic', -2.699829659687395), ('magnificent', -2.730047720598032)]\n",
      "\n"
     ]
    },
    {
     "name": "stdout",
     "output_type": "stream",
     "text": [
      "Progress:0.120000 [('terrible', -0.0), ('brilliant', -2.2021540788774594), ('horrible', -2.5257699482885037), ('remarkable', -2.5277558184234974), ('dreadful', -2.528285746006027), ('weak', -2.531349589283113), ('thin', -2.5528756414292935), ('lame', -2.574693807591052), ('magnificent', -2.6844705454800524), ('fantastic', -2.7218752124814487)]\n",
      "\n",
      "Progress:0.125000 [('terrible', -0.0), ('brilliant', -2.2585154168396455), ('weak', -2.6617593556890187), ('dreadful', -2.6755377476955693), ('remarkable', -2.699447941925009), ('horrible', -2.704491938735244), ('lame', -2.7239266357986893), ('terrific', -2.807788714540714), ('fantastic', -2.8622967622774804), ('magnificent', -2.8724651705247797)]\n",
      "\n",
      "Progress:0.130000 [('terrible', -0.0), ('brilliant', -2.2569867699078534), ('weak', -2.5220177383295246), ('lame', -2.5401986247474735), ('dreadful', -2.542781614438868), ('remarkable', -2.6049532373074387), ('magnificent', -2.7191035728989643), ('fantastic', -2.7312793337945145), ('thin', -2.736536603003046), ('terrific', -2.7477485905348638)]\n",
      "\n",
      "Progress:0.135000 [('terrible', -0.0), ('brilliant', -2.3933343698400917), ('weak', -2.53327303417488), ('lame', -2.56923926083967), ('dreadful', -2.585223686750524), ('remarkable', -2.6562933538550917), ('fantastic', -2.707933231196559), ('ridiculous', -2.738493496437457), ('watchable', -2.7592492991387627), ('deeply', -2.7717793807858686)]\n",
      "\n",
      "Progress:0.140000 [('terrible', -0.0), ('brilliant', -2.4135515305901682), ('lame', -2.5598056366577473), ('remarkable', -2.700829121984158), ('dreadful', -2.7403948925508708), ('ridiculous', -2.758466522434456), ('weak', -2.767434985312387), ('fantastic', -2.783511067422823), ('magnificent', -2.88105593641814), ('dumb', -2.8914417263438135)]\n",
      "\n",
      "Progress:0.145000 [('terrible', -0.0), ('brilliant', -2.3802821023759844), ('fantastic', -2.4937571262209555), ('remarkable', -2.590095590264497), ('ridiculous', -2.7241223309685374), ('lame', -2.7291482156106808), ('terrific', -2.738773087085158), ('weak', -2.7400096679036223), ('dreadful', -2.7734710667446136), ('magnificent', -2.7740343246637567)]\n",
      "\n",
      "Progress:0.150000 [('terrible', -0.0), ('fantastic', -2.569197866523109), ('brilliant', -2.5925132881419413), ('lame', -2.686523547185012), ('dreadful', -2.7417963427226595), ('dumb', -2.803225643768169), ('remarkable', -2.8106409257917018), ('weak', -2.8144057369999387), ('horrible', -2.8382782028995353), ('terrific', -2.843149215652565)]\n",
      "\n",
      "Progress:0.155000 [('terrible', -0.0), ('brilliant', -2.3740875016240355), ('fantastic', -2.5366621790079034), ('horrible', -2.6388156397180667), ('terrific', -2.716527415580504), ('dreadful', -2.7415954458583194), ('remarkable', -2.777065843908414), ('dumb', -2.8024375322996606), ('fabulous', -2.8545707016553603), ('lame', -2.8681457947257107)]\n",
      "\n",
      "Progress:0.160000 [('terrible', -0.0), ('brilliant', -2.412752935444053), ('horrible', -2.6981590845469405), ('terrific', -2.7609248058722895), ('fantastic', -2.781907693066444), ('dreadful', -2.805479335609526), ('lame', -2.8553008934882933), ('dumb', -2.8573397056170045), ('fabulous', -2.874584489548064), ('remarkable', -2.8996629219347745)]\n",
      "\n",
      "Progress:0.165000 [('terrible', -0.0), ('brilliant', -2.474265445415787), ('horrible', -2.8129271990818956), ('dreadful', -2.933342360296731), ('terrific', -2.9618661215838378), ('lame', -2.977164093702763), ('fantastic', -3.0064942918371536), ('dumb', -3.033393381768023), ('fabulous', -3.049466249219101), ('remarkable', -3.090675575715549)]\n",
      "\n",
      "Progress:0.170000 [('terrible', -0.0), ('brilliant', -2.67433389425013), ('horrible', -2.83939766657155), ('lame', -2.9310814927410083), ('dumb', -2.9975364310839576), ('dreadful', -3.065112969900686), ('fantastic', -3.1277163704624256), ('convincing', -3.1595789532548375), ('terrific', -3.162330776718963), ('powerful', -3.2072297236629326)]\n",
      "\n",
      "Progress:0.175000 [('terrible', -0.0), ('horrible', -2.6346140675486462), ('brilliant', -2.836140979956922), ('lame', -3.0564870452224424), ('dreadful', -3.1116180278187504), ('fantastic', -3.1288816555283105), ('superb', -3.1777552268075273), ('terrific', -3.245097105231705), ('dumb', -3.254971020230365), ('deeply', -3.2930729884083876)]\n",
      "\n",
      "Progress:0.180000 [('terrible', -0.0), ('brilliant', -2.5241243241306703), ('horrible', -2.587256708916419), ('lame', -2.7572241979089034), ('superb', -2.9819872686070177), ('dreadful', -3.027525473865533), ('fantastic', -3.031066101119303), ('gorgeous', -3.136409123540604), ('stunning', -3.1525135013877974), ('deeply', -3.1894926143134397)]\n",
      "\n",
      "Progress:0.185000 [('terrible', -0.0), ('brilliant', -2.5827955387031283), ('horrible', -2.619345506526238), ('lame', -2.733455658226581), ('superb', -2.7958671069517482), ('dreadful', -2.8785521320322593), ('stunning', -2.912073654355574), ('mediocre', -3.016025326574502), ('cute', -3.066085089105138), ('remarkable', -3.0660930305844283)]\n",
      "\n",
      "Progress:0.190000 [('terrible', -0.0), ('horrible', -2.811889660223849), ('brilliant', -2.8161800885637045), ('superb', -2.9806399601812945), ('fantastic', -3.0479478903007062), ('dreadful', -3.148165606060182), ('stunning', -3.151744591078569), ('cute', -3.2289426218079025), ('lame', -3.236496708686812), ('powerful', -3.270574060019776)]\n",
      "\n",
      "Progress:0.195000 [('terrible', -0.0), ('brilliant', -2.9373082990396475), ('horrible', -2.9678144540707625), ('superb', -3.1835016022249696), ('fantastic', -3.199206967995738), ('stunning', -3.2526351237538558), ('dreadful', -3.25725878336834), ('deeply', -3.313394978139607), ('cute', -3.320796835570587), ('lame', -3.325213496476915)]\n",
      "\n",
      "Progress:0.200000 [('terrible', -0.0), ('brilliant', -2.988135312577905), ('horrible', -3.0077031069406686), ('fantastic', -3.0718016009119387), ('cute', -3.233943442448203), ('superb', -3.2529421395827103), ('stunning', -3.2656977537414607), ('dreadful', -3.2891600355237314), ('lame', -3.349678226706436), ('deeply', -3.350371184536091)]\n",
      "\n",
      "Progress:0.205000 [('terrible', -0.0), ('horrible', -3.092412623189401), ('brilliant', -3.202600307277201), ('superb', -3.218736117766426), ('fantastic', -3.3091245069791966), ('dreadful', -3.3474796716268047), ('powerful', -3.348398521661117), ('lame', -3.3842888989336504), ('remarkable', -3.413699014419867), ('stunning', -3.430524603513129)]\n",
      "\n",
      "Progress:0.210000 [('terrible', -0.0), ('horrible', -3.182961762030167), ('remarkable', -3.233566110934793), ('superb', -3.262634569372733), ('brilliant', -3.2753266855679644), ('stupid', -3.288674968787148), ('dreadful', -3.3106009651840242), ('cute', -3.3202065399148912), ('credible', -3.3735840287262824), ('fantastic', -3.385117931093475)]\n",
      "\n",
      "Progress:0.215000 [('terrible', -0.0), ('horrible', -3.0897238816771133), ('brilliant', -3.221452312082114), ('fantastic', -3.2937770015832375), ('superb', -3.301728997133728), ('stupid', -3.3033023051120938), ('dreadful', -3.3217099014564413), ('remarkable', -3.3287167411773235), ('cute', -3.393282372342299), ('beautiful', -3.4743171139427007)]\n",
      "\n",
      "Progress:0.220000 [('terrible', -0.0), ('remarkable', -3.2397215060962616), ('fantastic', -3.2416582246708394), ('horrible', -3.24372995566063), ('brilliant', -3.3073102359228925), ('dreadful', -3.326960873204068), ('superb', -3.3381558560193234), ('stunning', -3.4679775411005296), ('cute', -3.494176226563913), ('hilarious', -3.5068384116665086)]\n",
      "\n",
      "Progress:0.225000 [('terrible', -0.0), ('brilliant', -3.2657937719970684), ('dreadful', -3.3022629769554515), ('stupid', -3.3616555644498294), ('horrible', -3.370825821118881), ('superb', -3.374039001601335), ('remarkable', -3.421913436673275), ('lame', -3.4264750758411457), ('fantastic', -3.460521571214794), ('stunning', -3.539812450700819)]\n",
      "\n",
      "Progress:0.230000 [('terrible', -0.0), ('brilliant', -3.2133217628537336), ('dreadful', -3.245676329637989), ('horrible', -3.3721900701876715), ('remarkable', -3.4232131170512656), ('stupid', -3.4301383266586845), ('lame', -3.486287737430661), ('fantastic', -3.5359252082480515), ('fascinating', -3.556281462747845), ('credible', -3.556538748722299)]\n",
      "\n",
      "Progress:0.235000 [('terrible', -0.0), ('brilliant', -2.907920592726141), ('horrible', -3.2437952149689924), ('remarkable', -3.3369067972456166), ('fantastic', -3.3918728942015552), ('superb', -3.396869621103535), ('dreadful', -3.406598135705021), ('wonderful', -3.414340006514757), ('lame', -3.5714208682033615), ('fascinating', -3.5753987736127946)]\n",
      "\n"
     ]
    },
    {
     "name": "stdout",
     "output_type": "stream",
     "text": [
      "Progress:0.240000 [('terrible', -0.0), ('brilliant', -2.861632525766515), ('horrible', -3.1148963035302413), ('remarkable', -3.1897623798132875), ('superb', -3.3139769658872598), ('fantastic', -3.3558033806009155), ('dreadful', -3.3638740961812394), ('stupid', -3.40018759044737), ('wonderful', -3.4331927708636014), ('predictable', -3.5155978495260753)]\n",
      "\n",
      "Progress:0.245000 [('terrible', -0.0), ('horrible', -2.8651397078641696), ('brilliant', -3.1427442243402255), ('stupid', -3.210268938324467), ('remarkable', -3.292648570972057), ('fantastic', -3.3125482926161993), ('dreadful', -3.5183327703924565), ('superb', -3.544780503204791), ('lame', -3.5526172299267063), ('stunning', -3.6116139451248626)]\n",
      "\n",
      "Progress:0.250000 [('terrible', -0.0), ('horrible', -3.0472017365365898), ('brilliant', -3.2481353475241748), ('stupid', -3.3363302846247525), ('remarkable', -3.4976510379432684), ('fantastic', -3.530975540418879), ('lame', -3.5824029456370265), ('dreadful', -3.6065057061012045), ('stunning', -3.630327595434733), ('wonderful', -3.632248400324876)]\n",
      "\n",
      "Progress:0.255000 [('terrible', -0.0), ('horrible', -3.0772751399319187), ('brilliant', -3.354984923108556), ('stupid', -3.399656135211483), ('remarkable', -3.449252461191162), ('wonderful', -3.509625838189563), ('fantastic', -3.616803167759483), ('dreadful', -3.6213724875223154), ('stunning', -3.73147849136799), ('lame', -3.762656346286067)]\n",
      "\n",
      "Progress:0.260000 [('terrible', -0.0), ('horrible', -3.2061715027918223), ('remarkable', -3.3407374861893353), ('brilliant', -3.4007473030148), ('dreadful', -3.5024632065360293), ('fantastic', -3.519526073929966), ('stupid', -3.57453926526436), ('pathetic', -3.6207222994755504), ('wonderful', -3.659248362884167), ('stunning', -3.670162995676062)]\n",
      "\n",
      "Progress:0.265000 [('terrible', -0.0), ('horrible', -3.215877766381313), ('remarkable', -3.305090913861184), ('dreadful', -3.472940335356579), ('brilliant', -3.492798099311406), ('stupid', -3.510686649040849), ('fantastic', -3.689019238820694), ('stunning', -3.7257751901317158), ('fascinating', -3.7954061571694746), ('pathetic', -3.8169761403680074)]\n",
      "\n",
      "Progress:0.270000 [('terrible', -0.0), ('horrible', -3.0644436157029613), ('remarkable', -3.3040294892234603), ('brilliant', -3.4030694685506018), ('dreadful', -3.523481873382881), ('stupid', -3.5737368792584547), ('fantastic', -3.616254504594064), ('superb', -3.8056210899340592), ('fascinating', -3.8396741556508145), ('stunning', -3.847137584750177)]\n",
      "\n",
      "Progress:0.275000 [('terrible', -0.0), ('horrible', -3.0235758670384207), ('brilliant', -3.235519345080993), ('remarkable', -3.247588096124291), ('dreadful', -3.3956646308004106), ('stupid', -3.4398495381837852), ('weak', -3.5983849552838967), ('fantastic', -3.5999892743719686), ('fascinating', -3.6237435122022106), ('stunning', -3.627981464097203)]\n",
      "\n",
      "Progress:0.280000 [('terrible', -0.0), ('horrible', -3.1504640954572958), ('remarkable', -3.4198475774376873), ('brilliant', -3.4885765270564963), ('dreadful', -3.576492343953352), ('stupid', -3.6010237569498775), ('fantastic', -3.6060707976081545), ('superb', -3.638102927429207), ('weak', -3.6524918568447196), ('fascinating', -3.691861765818431)]\n",
      "\n",
      "Progress:0.285000 [('terrible', -0.0), ('horrible', -3.5157278871798177), ('brilliant', -3.6135940454036346), ('fantastic', -3.625123062779757), ('remarkable', -3.6378047943229888), ('dreadful', -3.6875766187122303), ('superb', -3.7044365052793955), ('weak', -3.7658112822573027), ('fascinating', -3.8196224092406075), ('beautiful', -3.8457378403937024)]\n",
      "\n",
      "Progress:0.290000 [('terrible', -0.0), ('brilliant', -3.662291582103438), ('superb', -3.7379844116961514), ('horrible', -3.8184128720747745), ('dreadful', -3.828006968633247), ('remarkable', -3.828627290516909), ('stunning', -3.8665754552292175), ('weak', -3.8716041224583515), ('fantastic', -3.9541573872263456), ('hilarious', -3.9598481649927244)]\n",
      "\n",
      "Progress:0.295000 [('terrible', -0.0), ('brilliant', -3.6444866945040593), ('superb', -3.672214167834981), ('horrible', -3.721086896052225), ('remarkable', -3.723350169588816), ('dreadful', -3.7634245277959124), ('fantastic', -3.801482911108793), ('weak', -3.824137345317845), ('stunning', -3.861586164958319), ('stupid', -3.9170074024565564)]\n",
      "\n",
      "Progress:0.300000 [('terrible', -0.0), ('brilliant', -3.8037626256920167), ('superb', -3.8539901639724854), ('stunning', -3.878374282917988), ('dreadful', -3.901811693136019), ('fantastic', -3.9902530925857613), ('horrible', -3.996749555540692), ('remarkable', -4.0107397871638675), ('weak', -4.012724769200674), ('laughable', -4.04242363055778)]\n",
      "\n",
      "Progress:0.305000 [('terrible', -0.0), ('fantastic', -3.67908524784505), ('brilliant', -3.796542808287428), ('superb', -3.8154950670372685), ('dreadful', -3.8345718652570913), ('stunning', -3.967055137471267), ('remarkable', -3.9931455745104976), ('horrible', -4.016933990724624), ('weak', -4.076213199388934), ('magnificent', -4.081286098277645)]\n",
      "\n",
      "Progress:0.310000 [('terrible', -0.0), ('dreadful', -3.810552805787277), ('fantastic', -3.852285261688071), ('superb', -3.9074121678464544), ('brilliant', -3.98782523221447), ('weak', -4.030344414958874), ('remarkable', -4.099684875809204), ('magnificent', -4.1062758893614735), ('mediocre', -4.1368385467194795), ('stunning', -4.158818333736846)]\n",
      "\n",
      "Progress:0.315000 [('terrible', -0.0), ('fantastic', -3.64753654394404), ('dreadful', -3.6919096225448493), ('brilliant', -3.779063807879402), ('weak', -3.8003896676656117), ('superb', -3.834822950139606), ('remarkable', -3.8739003879786975), ('horrible', -3.9177345009539826), ('tremendous', -3.946405500644065), ('wonderful', -3.960655287214255)]\n",
      "\n",
      "Progress:0.320000 [('terrible', -0.0), ('dreadful', -3.6476999292656185), ('horrible', -3.8787358634721447), ('weak', -3.9157176104792812), ('remarkable', -3.9872217465244186), ('superb', -4.019091567624477), ('brilliant', -4.041119920848006), ('mediocre', -4.056104217724672), ('pathetic', -4.057007764327665), ('stunning', -4.069220566979097)]\n",
      "\n",
      "Progress:0.325000 [('terrible', -0.0), ('dreadful', -3.8300521741305515), ('horrible', -3.8493298931551116), ('pathetic', -4.042716011670217), ('superb', -4.08361204754014), ('stunning', -4.086058690296119), ('brilliant', -4.1526385241441774), ('weak', -4.167730450592419), ('fantastic', -4.198286832974866), ('remarkable', -4.212376202645424)]\n",
      "\n",
      "Progress:0.330000 [('terrible', -0.0), ('horrible', -3.9159810817165908), ('dreadful', -3.9239023227327405), ('stunning', -4.010861554959095), ('brilliant', -4.0711864299066125), ('superb', -4.084643415349149), ('pathetic', -4.086330326314587), ('jerk', -4.181560351684728), ('fantastic', -4.2301979367678175), ('magnificent', -4.235167503011583)]\n",
      "\n",
      "Progress:0.335000 [('terrible', -0.0), ('horrible', -3.5947678815916677), ('brilliant', -3.809952933861457), ('dreadful', -3.9110866067228085), ('superb', -3.944490022726416), ('stunning', -4.009349279418367), ('ridiculous', -4.180600381200463), ('remarkable', -4.1856738147896975), ('haunting', -4.189038582108581), ('bad', -4.198801041936395)]\n",
      "\n",
      "Progress:0.340000 [('terrible', -0.0), ('horrible', -3.4232822284190094), ('brilliant', -3.8231128731108632), ('dreadful', -3.9172923494875453), ('stunning', -4.037355467464953), ('superb', -4.085698897026691), ('ridiculous', -4.152216092629436), ('bad', -4.203087664445226), ('lame', -4.216208681971323), ('haunting', -4.2202611662941925)]\n",
      "\n",
      "Progress:0.345000 [('terrible', -0.0), ('horrible', -3.3498268737097114), ('brilliant', -3.6548764715215567), ('dreadful', -3.7980940028341914), ('stunning', -3.9410269993727405), ('ridiculous', -3.9661372561787576), ('superb', -4.0643749280415555), ('breathtaking', -4.105057869684567), ('horrendous', -4.150153401330593), ('fabulous', -4.154175955028349)]\n",
      "\n",
      "Progress:0.350000 [('terrible', -0.0), ('horrible', -3.110195398151994), ('brilliant', -3.713294910260207), ('dreadful', -3.7408052928514115), ('bad', -3.934234855468226), ('stunning', -3.9401982124608432), ('ridiculous', -4.011265680849143), ('superb', -4.05412777442943), ('fabulous', -4.064862518655986), ('stupid', -4.095682897376484)]\n",
      "\n",
      "Progress:0.355000 [('terrible', -0.0), ('horrible', -3.1128226941026784), ('dreadful', -3.689127868349404), ('brilliant', -3.72604375117721), ('stunning', -3.922784426660528), ('superb', -4.030649864597079), ('fabulous', -4.072753208272733), ('horrendous', -4.100664459715823), ('bad', -4.1047032108840655), ('breathtaking', -4.11545931965598)]\n",
      "\n"
     ]
    },
    {
     "name": "stdout",
     "output_type": "stream",
     "text": [
      "Progress:0.360000 [('terrible', -0.0), ('horrible', -2.9359366348042513), ('brilliant', -3.4652629903891774), ('dreadful', -3.632766241392901), ('fabulous', -3.9068607583646493), ('stunning', -3.9239192784697154), ('superb', -3.933881312967876), ('horrendous', -4.07275751927277), ('lame', -4.100466544524692), ('breathtaking', -4.116290140540972)]\n",
      "\n",
      "Progress:0.365000 [('terrible', -0.0), ('horrible', -2.9337008759990213), ('brilliant', -3.4236990868553714), ('dreadful', -3.608118018940969), ('stunning', -3.8571570713496026), ('fabulous', -3.880587033418197), ('superb', -3.9662764261067487), ('bad', -4.002211070546931), ('breathtaking', -4.0783909926422925), ('horrendous', -4.111257083027296)]\n",
      "\n",
      "Progress:0.370000 [('terrible', -0.0), ('horrible', -2.698261508186241), ('brilliant', -3.4359370439927877), ('bad', -3.6224051902153995), ('dreadful', -3.635475137972518), ('fabulous', -3.85830344068321), ('stunning', -3.9402125434669593), ('ridiculous', -3.9775882645258527), ('breathtaking', -4.00002401219023), ('horrendous', -4.044664327758447)]\n",
      "\n",
      "Progress:0.375000 [('terrible', -0.0), ('horrible', -2.867350156293935), ('brilliant', -3.531310141457414), ('dreadful', -3.6275971771423223), ('fabulous', -3.8095115628517346), ('ridiculous', -3.9040788283761043), ('horrendous', -3.9504849205468706), ('stunning', -3.969156650767801), ('breathtaking', -4.014566375940325), ('priceless', -4.01520286899727)]\n",
      "\n",
      "Progress:0.380000 [('terrible', -0.0), ('horrible', -3.023395520427756), ('brilliant', -3.5416353632340356), ('dreadful', -3.6379255323250974), ('fabulous', -3.6875156235560964), ('stunning', -3.8455311035256994), ('breathtaking', -3.883945562704863), ('marvelous', -3.9316157543988015), ('ridiculous', -3.94293499562365), ('horrendous', -3.9434678394548746)]\n",
      "\n",
      "Progress:0.385000 [('terrible', -0.0), ('horrible', -2.8037453910945276), ('dreadful', -3.5778092137224804), ('brilliant', -3.615178489324063), ('fabulous', -3.7764006123380116), ('breathtaking', -3.8765751483214643), ('stunning', -3.9210151656083303), ('superb', -3.9220637871590633), ('priceless', -3.959590569815731), ('horrendous', -3.973143389867575)]\n",
      "\n",
      "Progress:0.390000 [('terrible', -0.0), ('horrible', -3.06934217223531), ('dreadful', -3.6731313379242456), ('brilliant', -3.6981885040137707), ('fabulous', -3.853896405472028), ('superb', -3.9429533633454974), ('fantastic', -4.001331380203198), ('breathtaking', -4.005071540566343), ('stunning', -4.022523217205275), ('horrendous', -4.07118050649859)]\n",
      "\n",
      "Progress:0.395000 [('terrible', -0.0), ('horrible', -3.1240031877226597), ('brilliant', -3.830088789126746), ('dreadful', -3.8349245136696695), ('fabulous', -4.006796404419171), ('breathtaking', -4.095125268671339), ('ridiculous', -4.095375900460801), ('horrendous', -4.113279359716371), ('priceless', -4.175852866990934), ('superb', -4.213467688387572)]\n",
      "\n",
      "Progress:0.400000 [('terrible', -0.0), ('horrible', -3.051757695400775), ('dreadful', -3.756748022604831), ('brilliant', -3.790889534657729), ('fabulous', -3.8853751803843806), ('superb', -4.042037414812818), ('ridiculous', -4.057526988977607), ('breathtaking', -4.059604312146266), ('horrendous', -4.070848551520089), ('stunning', -4.103433549684734)]\n",
      "\n",
      "Progress:0.405000 [('terrible', -0.0), ('horrible', -3.0899052172887793), ('dreadful', -3.7729246528820624), ('superb', -3.8819098945315735), ('brilliant', -3.898984087105877), ('fabulous', -3.9538662476919613), ('breathtaking', -4.056496015679874), ('great', -4.0610057468362495), ('horrendous', -4.068205363104183), ('ridiculous', -4.0974521052863535)]\n",
      "\n",
      "Progress:0.410000 [('terrible', -0.0), ('horrible', -3.032468919776696), ('dreadful', -3.781515295178812), ('brilliant', -3.787291512376055), ('superb', -3.7953775396586424), ('fabulous', -3.9287998762815786), ('stunning', -3.9671437445613824), ('fantastic', -3.975296629745542), ('ridiculous', -4.0367800476837), ('wonderful', -4.041071861021783)]\n",
      "\n",
      "Progress:0.415000 [('terrible', -0.0), ('horrible', -3.1452019650721095), ('superb', -3.7310279966415254), ('brilliant', -3.77794524291562), ('dreadful', -3.8442761858133045), ('bad', -3.9692225329739834), ('great', -4.04139816464599), ('fantastic', -4.0705661141192335), ('stunning', -4.077239694939407), ('ridiculous', -4.077591846485872)]\n",
      "\n",
      "Progress:0.420000 [('terrible', -0.0), ('horrible', -3.349865479841218), ('superb', -3.587963693324112), ('brilliant', -3.68917481267238), ('dreadful', -3.921133234835089), ('fantastic', -4.069892045508899), ('fabulous', -4.078017679314797), ('breathtaking', -4.160664548649748), ('horrendous', -4.169932480598499), ('stunning', -4.1815687741508665)]\n",
      "\n",
      "Progress:0.425000 [('terrible', -0.0), ('superb', -3.459719506251846), ('brilliant', -3.459994161000798), ('horrible', -3.5493556070768353), ('great', -3.788274442506823), ('dreadful', -3.8711151152066554), ('fantastic', -3.981109715915676), ('fabulous', -4.001013834857097), ('wonderful', -4.025094225169952), ('stunning', -4.078733827479065)]\n",
      "\n",
      "Progress:0.430000 [('terrible', -0.0), ('horrible', -3.5666945147920908), ('superb', -3.622724238262777), ('great', -3.642850273291133), ('brilliant', -3.6986994294182045), ('dreadful', -4.001048584105598), ('wonderful', -4.046713892518349), ('fabulous', -4.114831879436917), ('ridiculous', -4.203504317224328), ('horrendous', -4.237302746209928)]\n",
      "\n",
      "Progress:0.435000 [('terrible', -0.0), ('superb', -3.4400913390331485), ('horrible', -3.631000890239836), ('brilliant', -3.687888705518497), ('great', -3.8249158646338235), ('wonderful', -4.004230097140273), ('dreadful', -4.032502371973091), ('ridiculous', -4.0508118809276805), ('fabulous', -4.18878255279281), ('breathtaking', -4.199179169573525)]\n",
      "\n",
      "Progress:0.440000 [('terrible', -0.0), ('superb', -3.584721764458404), ('horrible', -3.6302272529681026), ('brilliant', -3.8505939943333716), ('great', -3.951519496078416), ('ridiculous', -4.1150635026866), ('dreadful', -4.1389817008695395), ('wonderful', -4.182124482247763), ('horrendous', -4.286331170592481), ('breathtaking', -4.2898829493897965)]\n",
      "\n",
      "Progress:0.445000 [('terrible', -0.0), ('superb', -3.5359925224039066), ('horrible', -3.65238534242649), ('great', -3.714614642100728), ('brilliant', -3.89984882483204), ('dreadful', -4.136963768931072), ('wonderful', -4.158000068087298), ('ridiculous', -4.194055300475194), ('fine', -4.22419398226883), ('fantastic', -4.236413573120872)]\n",
      "\n",
      "Progress:0.450000 [('terrible', -0.0), ('horrible', -3.5227703600897673), ('great', -3.716876420676478), ('superb', -3.8503698646939406), ('brilliant', -4.009800558711612), ('bad', -4.04271172235983), ('dreadful', -4.046941674424493), ('ridiculous', -4.174035344594232), ('wonderful', -4.234322764743556), ('fabulous', -4.271691203746874)]\n",
      "\n",
      "Progress:0.455000 [('terrible', -0.0), ('horrible', -3.4163444017307887), ('superb', -3.7930445391149346), ('great', -3.834662039231896), ('dreadful', -3.9079302973689756), ('brilliant', -4.044578325698509), ('ridiculous', -4.045438554386626), ('fantastic', -4.1991676536547935), ('bad', -4.244686795918351), ('horrendous', -4.247314904740381)]\n",
      "\n",
      "Progress:0.460000 [('terrible', -0.0), ('horrible', -3.407142247674069), ('superb', -3.6011975048885336), ('brilliant', -3.8266352116730578), ('great', -3.929710622670924), ('ridiculous', -3.9852378842402083), ('dreadful', -4.076849456877282), ('fantastic', -4.11001411788951), ('breathtaking', -4.118283248872782), ('horrendous', -4.18908104552265)]\n",
      "\n",
      "Progress:0.465000 [('terrible', -0.0), ('horrible', -3.478837509998154), ('superb', -3.595633734708705), ('brilliant', -3.935512696992452), ('fantastic', -3.9536394172136684), ('dreadful', -3.9685569189135146), ('ridiculous', -4.002556838868283), ('breathtaking', -4.089180479377486), ('great', -4.131287909294722), ('fabulous', -4.14717186805571)]\n",
      "\n",
      "Progress:0.470000 [('terrible', -0.0), ('horrible', -3.4461965655745224), ('superb', -3.826164910476472), ('brilliant', -3.858532681085804), ('fantastic', -3.946236095257251), ('great', -4.11020745717311), ('fabulous', -4.1188783873288255), ('dreadful', -4.163776253010769), ('terrific', -4.212505264014588), ('wonderful', -4.243349686414818)]\n",
      "\n",
      "Progress:0.475000 [('terrible', -0.0), ('horrible', -3.272889652920421), ('brilliant', -3.8925737685879263), ('bad', -3.9008246324776334), ('dreadful', -3.9653373234160125), ('superb', -3.9840870991552055), ('fantastic', -4.024443821947349), ('fabulous', -4.084682497922764), ('wonderful', -4.104702458163197), ('great', -4.1056386951729955)]\n",
      "\n"
     ]
    },
    {
     "name": "stdout",
     "output_type": "stream",
     "text": [
      "Progress:0.480000 [('terrible', -0.0), ('horrible', -3.259992366169905), ('brilliant', -3.8934822334465196), ('superb', -3.9312050066971422), ('wonderful', -4.077101670490208), ('terrific', -4.130954158177945), ('dreadful', -4.164684284834005), ('fantastic', -4.170503756061025), ('fabulous', -4.232033532864423), ('tremendous', -4.250464203701715)]\n",
      "\n",
      "Progress:0.485000 [('terrible', -0.0), ('horrible', -3.4169914146844937), ('brilliant', -3.8083804113748614), ('superb', -3.837398752891373), ('wonderful', -4.066016091566484), ('terrific', -4.101548955950487), ('tremendous', -4.139998998255404), ('fine', -4.173197769237539), ('fantastic', -4.175590032844427), ('fabulous', -4.238798894830774)]\n",
      "\n",
      "Progress:0.490000 [('terrible', -0.0), ('horrible', -3.3168217239574873), ('superb', -3.7228259528393184), ('brilliant', -3.7548098758102197), ('terrific', -3.9989316457762247), ('fine', -4.043352530307692), ('fantastic', -4.0777276982446296), ('tremendous', -4.086040975119331), ('wonderful', -4.106202722337552), ('great', -4.273536508200661)]\n",
      "\n",
      "Progress:0.495000 [('terrible', -0.0), ('horrible', -3.348489594705508), ('superb', -3.7454025815627636), ('brilliant', -3.809070205645821), ('fine', -4.082914984009414), ('terrific', -4.094373180731221), ('tremendous', -4.1284161636857775), ('fantastic', -4.143077138947194), ('dreadful', -4.145844254677759), ('wonderful', -4.203190571501927)]\n",
      "\n",
      "Progress:0.500000 [('terrible', -0.0), ('horrible', -3.3940398014046935), ('superb', -3.9234714156203596), ('brilliant', -3.966075877384826), ('bad', -4.049831851796126), ('tremendous', -4.1979518740779795), ('dreadful', -4.2241262919113245), ('fine', -4.228991123614227), ('lame', -4.257309508635074), ('fantastic', -4.263106181734803)]\n",
      "\n",
      "Progress:0.505000 [('terrible', -0.0), ('horrible', -3.590013972083908), ('superb', -4.0063238745010255), ('brilliant', -4.064010437871231), ('lame', -4.232466510259976), ('tremendous', -4.2838103796061695), ('dreadful', -4.346557268571029), ('terrific', -4.393030681404603), ('pathetic', -4.394445343354007), ('fantastic', -4.431569242561042)]\n",
      "\n",
      "Progress:0.510000 [('terrible', -0.0), ('horrible', -3.3156379726107357), ('brilliant', -3.904910710379607), ('superb', -3.9177271858686975), ('tremendous', -4.154736399400858), ('lame', -4.198105132563274), ('terrific', -4.208872279084054), ('pathetic', -4.256072302188603), ('fantastic', -4.259064892178469), ('dreadful', -4.273409772719538)]\n",
      "\n",
      "Progress:0.515000 [('terrible', -0.0), ('horrible', -3.3621721629381263), ('brilliant', -3.748939789555043), ('superb', -3.802420165100693), ('fantastic', -4.084466363417189), ('lame', -4.183956945814455), ('terrific', -4.192355265260742), ('dreadful', -4.195129536258493), ('tremendous', -4.219204781011229), ('fine', -4.243831590350034)]\n",
      "\n",
      "Progress:0.520000 [('terrible', -0.0), ('horrible', -3.224141993104455), ('superb', -3.7370461372304105), ('brilliant', -3.980186940915417), ('fantastic', -4.040995294235319), ('fine', -4.126131183856911), ('terrific', -4.156016989240039), ('horrendous', -4.187086445333314), ('dreadful', -4.1901551095071135), ('tremendous', -4.196325303562484)]\n",
      "\n",
      "Progress:0.525000 [('terrible', -0.0), ('horrible', -3.3488520672757844), ('superb', -3.851452704286215), ('fantastic', -3.9808455541696195), ('brilliant', -4.087074220890606), ('horrendous', -4.143917248864438), ('dreadful', -4.183619466196637), ('terrific', -4.206414830728477), ('fine', -4.226050551800847), ('lame', -4.297695398862798)]\n",
      "\n",
      "Progress:0.530000 [('terrible', -0.0), ('horrible', -3.020184671171094), ('superb', -3.8825033081158704), ('fantastic', -3.9894083169648105), ('horrendous', -4.131194614675561), ('brilliant', -4.166301010687023), ('dreadful', -4.218272404044339), ('terrific', -4.2552733976084705), ('fine', -4.259535026799315), ('lame', -4.280412988494863)]\n",
      "\n",
      "Progress:0.535000 [('terrible', -0.0), ('horrible', -3.1345152925988904), ('bad', -3.795945850551775), ('superb', -4.0253566841700685), ('fantastic', -4.070206070043539), ('horrendous', -4.207213797298787), ('brilliant', -4.248342668453112), ('wonderful', -4.268727598710139), ('terrific', -4.276186484121349), ('laughable', -4.32215636218614)]\n",
      "\n",
      "Progress:0.540000 [('terrible', -0.0), ('horrible', -3.0721185445108437), ('fantastic', -3.749010831300267), ('superb', -4.0854360900042845), ('horrendous', -4.123693372458867), ('laughable', -4.157878482683406), ('terrific', -4.175874616622942), ('spectacular', -4.241774804066878), ('bad', -4.244766587767468), ('dreadful', -4.253771450635277)]\n",
      "\n",
      "Progress:0.545000 [('terrible', -0.0), ('horrible', -3.065801023246627), ('fantastic', -3.9595034917225505), ('horrendous', -4.077277502804228), ('wonderful', -4.155115726830656), ('laughable', -4.17756319170614), ('superb', -4.193841486079213), ('terrific', -4.214920150557692), ('spectacular', -4.216358209393698), ('marvelous', -4.235872562076327)]\n",
      "\n",
      "Progress:0.550000 [('terrible', -0.0), ('horrible', -3.3014551667224517), ('fantastic', -3.779425776205488), ('superb', -3.9557377424783216), ('bad', -3.9781738202591894), ('horrendous', -4.010434944496566), ('wonderful', -4.121063948401094), ('ridiculous', -4.14969078511182), ('dreadful', -4.150033773036676), ('terrific', -4.161995287059071)]\n",
      "\n",
      "Progress:0.555000 [('terrible', -0.0), ('horrible', -3.2684258097420993), ('fantastic', -3.711050473891034), ('superb', -3.7294107482919316), ('horrendous', -3.986906110077172), ('wonderful', -4.0156017835823645), ('terrific', -4.050111309917432), ('dreadful', -4.080249184549965), ('brilliant', -4.091250933489025), ('ridiculous', -4.093487482310594)]\n",
      "\n",
      "Progress:0.560000 [('terrible', -0.0), ('horrible', -3.1863950249475512), ('fantastic', -3.6053210021033313), ('superb', -3.7972290214783557), ('brilliant', -3.874255198042291), ('ridiculous', -3.9962221541515555), ('dreadful', -4.006143029468074), ('horrendous', -4.014642679762624), ('haunting', -4.0770119315069655), ('competition', -4.1240818969727355)]\n",
      "\n",
      "Progress:0.565000 [('terrible', -0.0), ('horrible', -2.947430528647233), ('fantastic', -3.5261428135919544), ('dreadful', -3.834821117068774), ('lame', -3.8417100948266283), ('ridiculous', -3.8505888772765666), ('superb', -3.8848279544030366), ('horrendous', -3.8952289607930446), ('brilliant', -3.9120435933560156), ('spectacular', -4.054635634037786)]\n",
      "\n",
      "Progress:0.570000 [('terrible', -0.0), ('horrible', -3.173653294973588), ('fantastic', -3.7241481280345456), ('dreadful', -3.880032207886491), ('brilliant', -3.900932576705798), ('superb', -3.9950406892106036), ('ridiculous', -4.001314181475035), ('horrendous', -4.019811356252616), ('wonderful', -4.035687875206474), ('lame', -4.0664589299663945)]\n",
      "\n",
      "Progress:0.575000 [('terrible', -0.0), ('horrible', -3.261288338410627), ('fantastic', -3.643935715158466), ('dreadful', -3.876404788287387), ('horrendous', -3.915547490735285), ('superb', -3.9348836083336254), ('ridiculous', -3.9669761081028154), ('wonderful', -4.009489947082889), ('haunting', -4.102709400278709), ('spectacular', -4.1323844500342615)]\n",
      "\n",
      "Progress:0.580000 [('terrible', -0.0), ('horrible', -3.2865991184860097), ('fantastic', -3.714842495017225), ('superb', -3.898151717711829), ('horrendous', -3.9604700600284812), ('dreadful', -4.054899073837158), ('brilliant', -4.086987362629204), ('wonderful', -4.116613500723392), ('ridiculous', -4.1219487959869445), ('haunting', -4.157531072462607)]\n",
      "\n",
      "Progress:0.585000 [('terrible', -0.0), ('horrible', -3.312647815911549), ('fantastic', -3.7061785829986698), ('horrendous', -3.915943739328406), ('wonderful', -4.00512410627461), ('haunting', -4.0249289515791045), ('superb', -4.042660311503145), ('dreadful', -4.058096648985499), ('spectacular', -4.121924531528944), ('ridiculous', -4.135577967568646)]\n",
      "\n",
      "Progress:0.590000 [('terrible', -0.0), ('horrible', -3.3297488560128263), ('fantastic', -3.741393430994196), ('horrendous', -3.9583216956394374), ('brilliant', -3.9674301961443734), ('superb', -4.032901575007973), ('ridiculous', -4.057890039734588), ('dreadful', -4.14338404903287), ('haunting', -4.164882694208941), ('great', -4.2111578153077)]\n",
      "\n",
      "Progress:0.595000 [('terrible', -0.0), ('horrible', -3.2803910795203515), ('fantastic', -3.633362222630607), ('horrendous', -3.8469270118508416), ('brilliant', -3.9211701484789536), ('dreadful', -3.993606814956546), ('superb', -4.007179086450513), ('haunting', -4.030000839195783), ('lame', -4.066545338356727), ('ridiculous', -4.11030082259369)]\n",
      "\n"
     ]
    },
    {
     "name": "stdout",
     "output_type": "stream",
     "text": [
      "Progress:0.600000 [('terrible', -0.0), ('horrible', -3.3607822144964214), ('fantastic', -3.673288901049267), ('brilliant', -3.783926995286968), ('horrendous', -3.8817491538439164), ('dreadful', -3.9619811526306563), ('superb', -4.064688135077285), ('haunting', -4.083449991706081), ('ridiculous', -4.144323762141075), ('spectacular', -4.14996186955877)]\n",
      "\n",
      "Progress:0.605000 [('terrible', -0.0), ('horrible', -3.2710706653039785), ('fantastic', -3.5488322244715858), ('brilliant', -3.7103788920274954), ('horrendous', -3.761083637646685), ('dreadful', -3.820967923181581), ('haunting', -3.955443867099345), ('superb', -4.034141330036329), ('ridiculous', -4.090567390072655), ('spectacular', -4.119313990974403)]\n",
      "\n",
      "Progress:0.610000 [('terrible', -0.0), ('horrible', -3.242777090029577), ('fantastic', -3.634720637348726), ('brilliant', -3.8008379923578945), ('dreadful', -3.942622265066894), ('horrendous', -3.943749681199538), ('superb', -4.0117322229272885), ('haunting', -4.125957711400188), ('spectacular', -4.207513839476042), ('lame', -4.226553853992696)]\n",
      "\n",
      "Progress:0.615000 [('terrible', -0.0), ('horrible', -2.9824791217537583), ('fantastic', -3.756558881059626), ('brilliant', -3.7894282325030137), ('dreadful', -3.8543127876780723), ('horrendous', -3.959822067841365), ('haunting', -4.074473934540274), ('ridiculous', -4.157926067296538), ('lame', -4.177592765531119), ('superb', -4.186095910438199)]\n",
      "\n",
      "Progress:0.620000 [('terrible', -0.0), ('horrible', -2.8646815155717835), ('brilliant', -3.6626797177040835), ('fantastic', -3.771611361310426), ('dreadful', -3.8552944918340515), ('horrendous', -3.9366291436767775), ('ridiculous', -4.103882639741283), ('bad', -4.104519680968757), ('haunting', -4.115436962409759), ('poor', -4.167023315652037)]\n",
      "\n",
      "Progress:0.625000 [('terrible', -0.0), ('horrible', -2.849117409593427), ('brilliant', -3.6471605522450337), ('fantastic', -3.7510274308153715), ('bad', -3.826990609384011), ('dreadful', -3.8934975537727845), ('horrendous', -3.9089364414151824), ('ridiculous', -3.959208778668227), ('fabulous', -3.989079400389247), ('wonderful', -4.062805173535861)]\n",
      "\n",
      "Progress:0.630000 [('terrible', -0.0), ('horrible', -2.7775346881701477), ('brilliant', -3.7458485603908573), ('ridiculous', -3.7752867701118746), ('horrendous', -3.8455706083943175), ('fantastic', -3.852603540468754), ('dreadful', -3.8899080731743587), ('fabulous', -4.086327928579614), ('magnificent', -4.0949420107506205), ('lame', -4.125474272296608)]\n",
      "\n",
      "Progress:0.635000 [('terrible', -0.0), ('horrible', -2.7649568849996475), ('ridiculous', -3.5790347455153415), ('fantastic', -3.7907687556404253), ('brilliant', -3.8254398101595193), ('horrendous', -3.8558511216321993), ('dreadful', -3.8844200884275386), ('lame', -4.105539358690285), ('fabulous', -4.1259724045413115), ('marvelous', -4.176387078905312)]\n",
      "\n",
      "Progress:0.640000 [('terrible', -0.0), ('horrible', -2.7713627417719096), ('ridiculous', -3.3932714327271767), ('lame', -3.83346532966945), ('brilliant', -3.847488935789135), ('horrendous', -3.881314681769948), ('fantastic', -3.8925055240432966), ('fabulous', -3.9879119675470656), ('dreadful', -4.001632266427489), ('bad', -4.0951408584058795)]\n",
      "\n",
      "Progress:0.645000 [('terrible', -0.0), ('horrible', -2.6654252799061573), ('ridiculous', -3.5587010104019345), ('fantastic', -3.838747268837453), ('brilliant', -3.8439836683428252), ('horrendous', -3.8818430916980375), ('fabulous', -3.925408505273143), ('dreadful', -3.937561050209617), ('bad', -4.029425678458192), ('lame', -4.05537834127576)]\n",
      "\n",
      "Progress:0.650000 [('terrible', -0.0), ('horrible', -2.72171002945076), ('ridiculous', -3.6173715833530746), ('brilliant', -3.7354434543403716), ('fantastic', -3.8632650592918534), ('horrendous', -3.8706475034109284), ('dreadful', -3.943936423742181), ('fabulous', -3.9453758894932363), ('lame', -4.002723700001708), ('marvelous', -4.023478987861931)]\n",
      "\n",
      "Progress:0.655000 [('terrible', -0.0), ('horrible', -2.904921744124123), ('brilliant', -3.709821929896149), ('fantastic', -3.7666704602957504), ('marvelous', -3.9320068922471547), ('ridiculous', -3.9471295007851483), ('fabulous', -3.991263207249338), ('dreadful', -3.996249476578281), ('horrendous', -4.016469968742068), ('great', -4.0983885962781565)]\n",
      "\n",
      "Progress:0.660000 [('terrible', -0.0), ('horrible', -2.916123836119966), ('brilliant', -3.6356772441965926), ('great', -3.6747057846268287), ('marvelous', -3.9131085347512062), ('fabulous', -3.9247760230409474), ('fantastic', -3.9465619396638836), ('dreadful', -3.9508535889643954), ('bad', -4.007656994790822), ('ridiculous', -4.031644896100086)]\n",
      "\n",
      "Progress:0.665000 [('terrible', -0.0), ('horrible', -3.0056699458067455), ('great', -3.3127103136268063), ('brilliant', -3.406283981543965), ('fantastic', -3.6859626305973574), ('marvelous', -3.824730058694693), ('fabulous', -3.8443246875054746), ('horrendous', -3.916059268647302), ('superb', -3.9603206103208266), ('terrific', -3.984538337522035)]\n",
      "\n",
      "Progress:0.670000 [('terrible', -0.0), ('horrible', -2.9242716833360483), ('brilliant', -3.590639047159901), ('fantastic', -3.7075015413496266), ('marvelous', -3.801554066909025), ('great', -3.8088641030432377), ('fabulous', -3.882245609765219), ('horrendous', -3.9258959141226644), ('superb', -3.9350258747531415), ('wonderful', -3.941303923126849)]\n",
      "\n",
      "Progress:0.675000 [('terrible', -0.0), ('horrible', -2.7357027978894743), ('bad', -3.603630246705765), ('fantastic', -3.6327097901103307), ('brilliant', -3.6581662423130976), ('great', -3.776516576762304), ('marvelous', -3.8066933136636187), ('horrendous', -3.9043848584478678), ('superb', -3.910973122114729), ('horrid', -3.9792659715175374)]\n",
      "\n",
      "Progress:0.680000 [('terrible', -0.0), ('horrible', -2.7757291566997866), ('brilliant', -3.576675414815935), ('fantastic', -3.7232913738545674), ('superb', -3.832532421321125), ('marvelous', -3.8683594795050738), ('fabulous', -3.969986357219168), ('bad', -3.9931336567079447), ('horrendous', -4.006189801835034), ('dreadful', -4.057700435219923)]\n",
      "\n",
      "Progress:0.685000 [('terrible', -0.0), ('horrible', -2.825760310984229), ('great', -3.5488500966794043), ('brilliant', -3.6264869330572105), ('fantastic', -3.7510257198153725), ('bad', -3.8257511426143473), ('marvelous', -3.841768371455894), ('superb', -3.9065382097349017), ('fabulous', -3.9072709016714278), ('glorious', -3.916913651353876)]\n",
      "\n",
      "Progress:0.690000 [('terrible', -0.0), ('horrible', -2.6554558668603683), ('great', -3.5467887685120085), ('brilliant', -3.709790915508831), ('fantastic', -3.744997525022115), ('superb', -3.935422063920842), ('marvelous', -3.9711372403729928), ('horrid', -4.084640773351507), ('horrendous', -4.089245337550038), ('wonderful', -4.090392860337957)]\n",
      "\n",
      "Progress:0.695000 [('terrible', -0.0), ('horrible', -2.6723106513291675), ('brilliant', -3.8348098479742303), ('fantastic', -3.915989386801921), ('spectacular', -4.063082828184219), ('dreadful', -4.099339587911838), ('horrid', -4.109755408819935), ('marvelous', -4.117173375618993), ('horrendous', -4.158940202759685), ('superb', -4.183330198956963)]\n",
      "\n",
      "Progress:0.700000 [('terrible', -0.0), ('horrible', -2.6677780503443156), ('brilliant', -3.7575429013636774), ('fantastic', -3.896097244280015), ('spectacular', -3.9369479143983104), ('great', -3.959521507609319), ('horrendous', -4.0898889850257305), ('horrid', -4.122977638702376), ('superb', -4.124919966738624), ('dreadful', -4.128930941911153)]\n",
      "\n",
      "Progress:0.705000 [('terrible', -0.0), ('horrible', -2.6802965555974336), ('brilliant', -3.933234282505703), ('superb', -3.9987839392472786), ('dreadful', -4.039311621853661), ('spectacular', -4.051073840055135), ('horrendous', -4.135836982514568), ('horrid', -4.149306359080041), ('fantastic', -4.157360027371561), ('marvelous', -4.269026783515686)]\n",
      "\n",
      "Progress:0.710000 [('terrible', -0.0), ('horrible', -2.5682459354070106), ('spectacular', -4.018042168601149), ('horrendous', -4.108967939721762), ('dreadful', -4.109270168629797), ('superb', -4.110237558493518), ('fantastic', -4.190406485717133), ('brilliant', -4.195817948810792), ('glorious', -4.222136319727487), ('hilarious', -4.23134297703279)]\n",
      "\n",
      "Progress:0.715000 [('terrible', -0.0), ('horrible', -2.45033266635791), ('horrendous', -3.939002213443936), ('brilliant', -3.991352868915003), ('spectacular', -4.006313352065345), ('stupid', -4.031236021536275), ('dreadful', -4.054503127339731), ('fantastic', -4.120696502441938), ('superb', -4.136283077475062), ('hilarious', -4.177205589386123)]\n",
      "\n"
     ]
    },
    {
     "name": "stdout",
     "output_type": "stream",
     "text": [
      "Progress:0.720000 [('terrible', -0.0), ('horrible', -2.8855944962404183), ('spectacular', -3.8834590129967683), ('horrendous', -3.92247035528734), ('dreadful', -3.9771446166144337), ('superb', -3.9907195128815953), ('fantastic', -4.000139507802868), ('brilliant', -4.0008219822751165), ('hilarious', -4.063114885980841), ('stupid', -4.1037695528944464)]\n",
      "\n",
      "Progress:0.725000 [('terrible', -0.0), ('horrible', -2.8731559135017397), ('brilliant', -3.8409612829144915), ('dreadful', -3.8984702946269834), ('superb', -4.040989923358224), ('horrendous', -4.055932957143123), ('spectacular', -4.062242934353335), ('bad', -4.069361993298025), ('fantastic', -4.177156548412016), ('stupid', -4.211837836938103)]\n",
      "\n",
      "Progress:0.730000 [('terrible', -0.0), ('horrible', -2.8691299440281606), ('dreadful', -3.805130176456905), ('brilliant', -3.8700994233927046), ('horrendous', -4.02533959280766), ('spectacular', -4.062133222350337), ('bad', -4.13208339294299), ('fantastic', -4.145027522331349), ('great', -4.215235916530874), ('ridiculous', -4.26215503442868)]\n",
      "\n",
      "Progress:0.735000 [('terrible', -0.0), ('horrible', -2.937857929308737), ('brilliant', -3.4621012988227675), ('dreadful', -3.8082476018278357), ('horrendous', -3.9159880820195236), ('fantastic', -4.000743194684478), ('spectacular', -4.06264241606154), ('bad', -4.080431117033777), ('ridiculous', -4.138762096840714), ('wonderful', -4.1523638554484)]\n",
      "\n",
      "Progress:0.740000 [('terrible', -0.0), ('horrible', -2.7842118947183923), ('brilliant', -3.3962863926256053), ('dreadful', -3.8386909795748276), ('horrendous', -3.885971191277831), ('fantastic', -3.9177440686511544), ('ridiculous', -4.013940191318516), ('spectacular', -4.03725026932994), ('stupid', -4.0385029520793285), ('superb', -4.04634673969971)]\n",
      "\n",
      "Progress:0.745000 [('terrible', -0.0), ('horrible', -2.6796607527986414), ('brilliant', -3.681616918176103), ('stupid', -3.7876416618107855), ('dreadful', -3.8597989427536374), ('horrendous', -3.907502442758226), ('ridiculous', -4.0578697197538895), ('fantastic', -4.061862438800718), ('lame', -4.070571170497926), ('spectacular', -4.113216793619716)]\n",
      "\n",
      "Progress:0.750000 [('terrible', -0.0), ('horrible', -2.756391925963475), ('brilliant', -3.5799622558192845), ('stupid', -3.818540329247976), ('dreadful', -3.8229593496690963), ('lame', -3.912313576788108), ('fantastic', -4.005559676783402), ('horrendous', -4.087447498954907), ('ridiculous', -4.177184490885374), ('superb', -4.199754172424016)]\n",
      "\n",
      "Progress:0.755000 [('terrible', -0.0), ('horrible', -2.7512403918984423), ('brilliant', -3.558621083858364), ('stupid', -3.6765537054943227), ('lame', -3.8271891730330254), ('dreadful', -3.8323885708537944), ('ridiculous', -3.896802458830882), ('horrendous', -3.9347811351885964), ('bad', -3.9826147001966747), ('fantastic', -4.028252161515091)]\n",
      "\n",
      "Progress:0.760000 [('terrible', -0.0), ('horrible', -2.586720453696608), ('brilliant', -3.5827069624585657), ('dreadful', -3.703371007532906), ('lame', -3.786218674052421), ('stupid', -3.8373929147966686), ('horrendous', -3.8807582818504036), ('fantastic', -3.9538509476992667), ('pathetic', -4.02583264524007), ('bad', -4.082419814885768)]\n",
      "\n",
      "Progress:0.765000 [('terrible', -0.0), ('horrible', -2.6290626092773564), ('dreadful', -3.691842906041736), ('lame', -3.737998505085526), ('brilliant', -3.797395447412371), ('stupid', -3.916283118854594), ('horrendous', -3.9363004154516887), ('fantastic', -4.007837853083826), ('horrid', -4.088907552247796), ('marvelous', -4.111665273954772)]\n",
      "\n",
      "Progress:0.770000 [('terrible', -0.0), ('horrible', -2.7174658555079123), ('dreadful', -3.798051243624444), ('brilliant', -3.866595191226016), ('lame', -3.897799520798708), ('stupid', -3.9740281606818493), ('horrendous', -3.991432970129173), ('fantastic', -4.071847601619589), ('marvelous', -4.081339945665188), ('bad', -4.108988215148184)]\n",
      "\n",
      "Progress:0.775000 [('terrible', -0.0), ('horrible', -2.74213911653462), ('lame', -3.645938341169562), ('stupid', -3.7298328201173745), ('dreadful', -3.7413468367572174), ('brilliant', -3.745872562545557), ('fantastic', -3.9221674949959615), ('horrendous', -3.9321949849637092), ('marvelous', -3.9538881869683835), ('fabulous', -4.042608998619416)]\n",
      "\n",
      "Progress:0.780000 [('terrible', -0.0), ('horrible', -2.7012891807067354), ('dreadful', -3.831998859135027), ('stupid', -3.839689774504873), ('brilliant', -3.848468998676399), ('fantastic', -3.9156605203259427), ('marvelous', -3.9236832342216332), ('horrendous', -3.92962162008578), ('lame', -3.974827626738293), ('horrid', -4.120921356015378)]\n",
      "\n",
      "Progress:0.785000 [('terrible', -0.0), ('horrible', -2.8675105593291934), ('marvelous', -3.7383065092642913), ('dreadful', -3.8651772937000612), ('brilliant', -3.869579046972002), ('fantastic', -3.9541504595632997), ('horrendous', -3.9690574109975847), ('stupid', -3.9815022461059515), ('lame', -4.067946791706224), ('superb', -4.073868953277977)]\n",
      "\n",
      "Progress:0.790000 [('terrible', -0.0), ('horrible', -2.889615096660249), ('marvelous', -3.5591247737021887), ('dreadful', -3.7506292235877727), ('brilliant', -3.7939324642788006), ('horrendous', -3.8070436729614836), ('fantastic', -3.9177553566027905), ('superb', -3.961941366059275), ('lame', -4.0142349502555215), ('horrid', -4.015909377386285)]\n",
      "\n",
      "Progress:0.795000 [('terrible', -0.0), ('horrible', -3.1382934236791207), ('marvelous', -3.6403425417468736), ('brilliant', -3.7702692403267823), ('dreadful', -3.8149335881613755), ('fantastic', -3.934363330175389), ('superb', -3.9608128557925), ('bad', -4.035902239728121), ('horrendous', -4.058182149038367), ('stupid', -4.076466034168263)]\n",
      "\n",
      "Progress:0.800000 [('terrible', -0.0), ('horrible', -3.3439416566244966), ('brilliant', -3.6373632549843924), ('dreadful', -3.682140310637625), ('marvelous', -3.7256080054905993), ('superb', -3.8712622053238666), ('lame', -3.8847511883093024), ('fantastic', -3.9773258503242213), ('horrendous', -3.9982529718394137), ('fabulous', -4.004457651188205)]\n",
      "\n",
      "Progress:0.805000 [('terrible', -0.0), ('horrible', -3.4655682395103597), ('dreadful', -3.623807017290034), ('brilliant', -3.7792551168632382), ('marvelous', -3.8133350066346834), ('superb', -3.842064213429435), ('fabulous', -3.882933194792816), ('fantastic', -3.9202229738318657), ('lame', -4.000845932061079), ('horrid', -4.01466923212655)]\n",
      "\n",
      "Progress:0.810000 [('terrible', -0.0), ('horrible', -3.436335964316226), ('fantastic', -3.590048495212331), ('dreadful', -3.62914399464381), ('marvelous', -3.747457481766182), ('brilliant', -3.8453926519481563), ('fabulous', -3.8677587231821713), ('superb', -3.897256051109992), ('horrid', -3.961209201922153), ('fine', -3.9703074273741987)]\n",
      "\n",
      "Progress:0.815000 [('terrible', -0.0), ('horrible', -3.1113140568196824), ('fantastic', -3.3556159286119036), ('dreadful', -3.4557084683594863), ('brilliant', -3.597744718406481), ('marvelous', -3.680574060079221), ('horrendous', -3.6945003366403983), ('fabulous', -3.7203217891889), ('superb', -3.7940245350219106), ('phenomenal', -3.812500612839227)]\n",
      "\n",
      "Progress:0.820000 [('terrible', -0.0), ('horrible', -2.9662410715544074), ('dreadful', -3.4076192557306046), ('horrendous', -3.5548510515098366), ('brilliant', -3.679769742997214), ('fabulous', -3.802105645405266), ('fantastic', -3.8056602575243574), ('horrid', -3.865236109372161), ('dire', -3.8857772568753655), ('superb', -3.951138213105252)]\n",
      "\n",
      "Progress:0.825000 [('terrible', -0.0), ('horrible', -2.9970715579319034), ('dreadful', -3.434816491633777), ('horrendous', -3.5831719327152034), ('brilliant', -3.770872710920373), ('pathetic', -3.8838865940885947), ('lame', -3.9438174178364203), ('horrid', -3.9862170413596196), ('fantastic', -4.014986579760419), ('fabulous', -4.0529944447945185)]\n",
      "\n",
      "Progress:0.830000 [('terrible', -0.0), ('horrible', -3.2534325289243995), ('horrendous', -3.6015915912907017), ('dreadful', -3.642310419530367), ('brilliant', -3.6834616476649495), ('pathetic', -3.9590673957855493), ('marvelous', -3.962336440878264), ('horrid', -4.071336507218352), ('superb', -4.0814000349623765), ('fabulous', -4.093132113093139)]\n",
      "\n",
      "Progress:0.835000 [('terrible', -0.0), ('horrible', -3.141025371734176), ('brilliant', -3.3741895240643855), ('horrendous', -3.4983617847140844), ('dreadful', -3.739631805567413), ('horrid', -3.8892784709988275), ('marvelous', -3.9017718613600514), ('pathetic', -4.033411938513509), ('laughable', -4.086593219120993), ('superb', -4.090916211770402)]\n",
      "\n"
     ]
    },
    {
     "name": "stdout",
     "output_type": "stream",
     "text": [
      "Progress:0.840000 [('terrible', -0.0), ('horrible', -3.0256887045622687), ('brilliant', -3.3456563663543983), ('horrendous', -3.553864814269606), ('dreadful', -3.666016632316138), ('marvelous', -3.857608660969116), ('horrid', -3.9090385961159075), ('fabulous', -3.9410196930501664), ('laughable', -3.9901844465787084), ('superb', -4.0316132515586105)]\n",
      "\n",
      "Progress:0.845000 [('terrible', -0.0), ('brilliant', -3.1522139740424113), ('horrible', -3.166809384937746), ('horrendous', -3.474359718917541), ('dreadful', -3.549923275148204), ('horrid', -3.9030750330545145), ('marvelous', -3.9150371417026526), ('lame', -3.9650394233015684), ('fabulous', -3.9866896503054763), ('laughable', -3.995331673221079)]\n",
      "\n",
      "Progress:0.850000 [('terrible', -0.0), ('horrible', -3.0010292027461793), ('brilliant', -3.1301214193666613), ('horrendous', -3.4976995845415453), ('dreadful', -3.5512304350013317), ('marvelous', -3.7439129708659333), ('bad', -3.7520143564519595), ('fabulous', -3.8985393596748206), ('lame', -3.9632879066316797), ('laughable', -3.982060120675106)]\n",
      "\n",
      "Progress:0.855000 [('terrible', -0.0), ('horrible', -2.771056494714524), ('brilliant', -2.999808829518495), ('dreadful', -3.4228581778776723), ('horrendous', -3.4246282054527124), ('marvelous', -3.654550145959734), ('fabulous', -3.82141420072149), ('great', -3.8710431578309845), ('lame', -3.940817748400908), ('spectacular', -3.9611257151201613)]\n",
      "\n",
      "Progress:0.860000 [('terrible', -0.0), ('horrible', -2.783720631486736), ('brilliant', -2.9435151153811905), ('dreadful', -3.34423493961185), ('horrendous', -3.3931188997343384), ('marvelous', -3.54551127321021), ('fabulous', -3.6070127109345433), ('fantastic', -3.8863834366360854), ('superb', -3.902195340295578), ('spectacular', -3.9515135758766022)]\n",
      "\n",
      "Progress:0.865000 [('terrible', -0.0), ('horrible', -2.6286178214256095), ('brilliant', -2.7975137794506435), ('dreadful', -3.3103029466011065), ('horrendous', -3.373501937091673), ('marvelous', -3.567484107136097), ('fabulous', -3.572978825265379), ('fantastic', -3.8052778125349143), ('lame', -3.80861751481979), ('superb', -3.8396473730069793)]\n",
      "\n",
      "Progress:0.870000 [('terrible', -0.0), ('horrible', -2.5993120123267235), ('brilliant', -2.6518611804069714), ('horrendous', -3.3919946886970544), ('dreadful', -3.4112618587067534), ('fabulous', -3.4625730154856917), ('fantastic', -3.652527922495016), ('marvelous', -3.729004114922612), ('superb', -3.828757851916551), ('spectacular', -3.8547498393594273)]\n",
      "\n",
      "Progress:0.875000 [('terrible', -0.0), ('horrible', -2.4119954696020347), ('brilliant', -2.719138178786328), ('horrendous', -3.353376490927463), ('dreadful', -3.398811604404342), ('fabulous', -3.5591512527300697), ('marvelous', -3.749200707885965), ('superb', -3.856539186722425), ('fantastic', -3.8699661736237414), ('hilarious', -4.0035502487183665)]\n",
      "\n",
      "Progress:0.880000 [('terrible', -0.0), ('horrible', -2.4305328050074055), ('brilliant', -2.6272873940477415), ('horrendous', -3.29797752255495), ('dreadful', -3.3548361193948444), ('fabulous', -3.4309018510386786), ('marvelous', -3.6132277941961513), ('fantastic', -3.6205104294436214), ('superb', -3.732602869118921), ('phenomenal', -3.9394183857848764)]\n",
      "\n",
      "Progress:0.885000 [('terrible', -0.0), ('horrible', -2.519656715551662), ('brilliant', -2.9335296324930407), ('horrendous', -3.3824678970372304), ('dreadful', -3.410618982115145), ('fabulous', -3.5008107530304238), ('fantastic', -3.533710307786748), ('marvelous', -3.5463117592284297), ('superb', -3.5668821376185216), ('phenomenal', -3.900297460731203)]\n",
      "\n",
      "Progress:0.890000 [('terrible', -0.0), ('horrible', -2.9614283876604746), ('brilliant', -3.0871233776017677), ('dreadful', -3.5972001429499656), ('fabulous', -3.6461774443336843), ('horrendous', -3.7430754266489394), ('marvelous', -3.7750702375914376), ('fantastic', -3.7756834913819546), ('superb', -3.7799758556246035), ('fine', -3.9900102195151326)]\n",
      "\n",
      "Progress:0.895000 [('terrible', -0.0), ('horrible', -2.8107942440255105), ('brilliant', -3.235853961914597), ('dreadful', -3.6311789977963334), ('fabulous', -3.7198337557963486), ('horrendous', -3.72053707734471), ('marvelous', -3.8451024387766233), ('superb', -3.8966329158068724), ('fantastic', -3.925001497942509), ('hilarious', -3.9260917581441794)]\n",
      "\n",
      "Progress:0.900000 [('terrible', -0.0), ('horrible', -3.012558723018657), ('brilliant', -3.1540320431965108), ('dreadful', -3.525397243586312), ('fabulous', -3.6156081260485866), ('horrendous', -3.7155072678072023), ('fantastic', -3.788779910438375), ('hilarious', -3.899904931694989), ('marvelous', -3.921115376112985), ('superb', -3.939671868088293)]\n",
      "\n",
      "Progress:0.905000 [('terrible', -0.0), ('horrible', -2.858632970073175), ('brilliant', -3.1273816748527774), ('dreadful', -3.461846253314892), ('fabulous', -3.6116696094070746), ('fantastic', -3.7157904597678715), ('horrendous', -3.7164778086668284), ('superb', -3.873244033235458), ('great', -3.8852943780877314), ('phenomenal', -3.9634486265049236)]\n",
      "\n",
      "Progress:0.910000 [('terrible', -0.0), ('horrible', -2.795037958958343), ('brilliant', -3.1669254329633323), ('dreadful', -3.429924965384339), ('fabulous', -3.614045606321151), ('horrendous', -3.6958966777330193), ('fantastic', -3.7194512612009833), ('phenomenal', -3.9227884762728658), ('great', -3.934357732260134), ('superb', -3.953215716728553)]\n",
      "\n",
      "Progress:0.915000 [('terrible', -0.0), ('horrible', -2.8827821433448744), ('brilliant', -3.2405318481166128), ('dreadful', -3.4666498372812806), ('horrendous', -3.721280526736036), ('fabulous', -3.8215587917599096), ('wonderful', -3.868233624399406), ('superb', -3.898310663447329), ('fantastic', -3.9100038161212614), ('bad', -4.048103790462844)]\n",
      "\n",
      "Progress:0.920000 [('terrible', -0.0), ('horrible', -2.897046128497197), ('brilliant', -3.3138241291540598), ('dreadful', -3.351363319928434), ('wonderful', -3.691277550785125), ('fabulous', -3.7367823701147214), ('superb', -3.757447232720063), ('horrendous', -3.7579183339518294), ('fantastic', -4.029071022451786), ('spectacular', -4.032757916949998)]\n",
      "\n",
      "Progress:0.925000 [('terrible', -0.0), ('horrible', -3.0315006721753037), ('brilliant', -3.063165805469532), ('dreadful', -3.3582319912340566), ('superb', -3.651085294725749), ('wonderful', -3.7035442565196335), ('fabulous', -3.735819588899042), ('horrendous', -3.950496401200594), ('marvelous', -3.9922629445667135), ('fantastic', -3.9980884609004663)]\n",
      "\n",
      "Progress:0.930000 [('terrible', -0.0), ('horrible', -3.1027943289211124), ('brilliant', -3.2308516296810113), ('dreadful', -3.5075050158965495), ('superb', -3.6877676928034977), ('fabulous', -3.894114936321059), ('wonderful', -3.9186227298522294), ('horrendous', -3.9882178760529485), ('great', -4.002761463047906), ('marvelous', -4.0464062839113675)]\n",
      "\n",
      "Progress:0.935000 [('terrible', -0.0), ('horrible', -3.1087757701928598), ('brilliant', -3.2672121071399483), ('dreadful', -3.6561140302464916), ('superb', -3.657870625129967), ('wonderful', -3.9005277808703895), ('fabulous', -3.9218478485853865), ('horrendous', -4.042813715130032), ('marvelous', -4.062507926326621), ('great', -4.097450109553702)]\n",
      "\n",
      "Progress:0.940000 [('terrible', -0.0), ('horrible', -3.17081426910029), ('brilliant', -3.3956597372732724), ('superb', -3.707744457130892), ('dreadful', -3.806083989735001), ('wonderful', -3.9631504900156065), ('fabulous', -3.995384424438017), ('horrendous', -4.087468777781087), ('marvelous', -4.17447661972219), ('fantastic', -4.174718738011506)]\n",
      "\n",
      "Progress:0.945000 [('terrible', -0.0), ('horrible', -3.0212905345864876), ('brilliant', -3.573557092590483), ('superb', -3.5902561697737516), ('dreadful', -3.736217567464428), ('great', -3.892074860737384), ('fabulous', -4.0473021403010305), ('fantastic', -4.073723824961846), ('wonderful', -4.085899932509797), ('horrendous', -4.097933019379007)]\n",
      "\n",
      "Progress:0.950000 [('terrible', -0.0), ('horrible', -3.0612961920579016), ('brilliant', -3.6323899689567973), ('dreadful', -3.715605587222224), ('superb', -3.7301475534619004), ('horrendous', -4.02640337217508), ('fabulous', -4.029633645198002), ('great', -4.032175162896473), ('bad', -4.08153022201889), ('wonderful', -4.142550915148255)]\n",
      "\n",
      "Progress:0.955000 [('terrible', -0.0), ('horrible', -2.8594695453048753), ('dreadful', -3.4970089780500717), ('brilliant', -3.5409106877550416), ('superb', -3.5685745934128525), ('horrendous', -3.870160370529722), ('fabulous', -3.9489116868715852), ('bad', -4.017327655914027), ('spectacular', -4.029610721937207), ('fantastic', -4.039441181523984)]\n",
      "\n"
     ]
    },
    {
     "name": "stdout",
     "output_type": "stream",
     "text": [
      "Progress:0.960000 [('terrible', -0.0), ('horrible', -2.9068219176652836), ('superb', -3.4556773995446264), ('brilliant', -3.5671589172756866), ('dreadful', -3.7654143651920746), ('horrendous', -3.818250090766798), ('spectacular', -3.9882322804288135), ('great', -4.048646132672695), ('fantastic', -4.07495775970486), ('fabulous', -4.117765675338482)]\n",
      "\n",
      "Progress:0.965000 [('terrible', -0.0), ('horrible', -3.0190358590503528), ('superb', -3.4705936333839507), ('brilliant', -3.580379147984176), ('dreadful', -3.783985717103459), ('horrendous', -3.94469007435039), ('spectacular', -4.019232416175871), ('fantastic', -4.078416517019524), ('fabulous', -4.089831402580275), ('great', -4.127467113755128)]\n",
      "\n",
      "Progress:0.970000 [('terrible', -0.0), ('horrible', -2.9373519924313265), ('superb', -3.526493440448034), ('brilliant', -3.644421086101592), ('dreadful', -3.718101164448732), ('horrendous', -3.9814539459602294), ('great', -3.9965062179118513), ('spectacular', -4.065799726088611), ('fabulous', -4.116487092533228), ('fantastic', -4.123358459049618)]\n",
      "\n",
      "Progress:0.975000 [('terrible', -0.0), ('horrible', -2.7742961648628848), ('brilliant', -3.5401326696164537), ('dreadful', -3.563858400588848), ('superb', -3.8407188294554846), ('great', -3.875316140464799), ('horrendous', -3.9133605193545735), ('fabulous', -4.005503834693102), ('marvelous', -4.095596161232432), ('phenomenal', -4.113548351436304)]\n",
      "\n",
      "Progress:0.980000 [('terrible', -0.0), ('horrible', -2.8314134577089987), ('brilliant', -3.468602891978024), ('dreadful', -3.6824076710321507), ('horrendous', -3.9154679934690164), ('superb', -3.934019633801216), ('fabulous', -3.995765786318544), ('marvelous', -4.027666525917692), ('spectacular', -4.048902840630767), ('pathetic', -4.110078876746148)]\n",
      "\n",
      "Progress:0.985000 [('terrible', -0.0), ('horrible', -3.0372397170246446), ('brilliant', -3.3942240908624264), ('pathetic', -3.7934563808456203), ('dreadful', -3.7992687341570495), ('horrendous', -3.8018147001698273), ('superb', -3.833842921721757), ('spectacular', -3.982795893319205), ('marvelous', -4.020347029764583), ('fabulous', -4.110910156390773)]\n",
      "\n",
      "Progress:0.990000 [('terrible', -0.0), ('horrible', -2.9906642051030516), ('brilliant', -3.4017815066865293), ('dreadful', -3.6436399038661493), ('horrendous', -3.754851279658519), ('pathetic', -3.821474586423552), ('superb', -3.974415305489987), ('spectacular', -3.9890539868340955), ('marvelous', -4.01477619391454), ('ridiculous', -4.02856483042236)]\n",
      "\n",
      "Progress:0.995000 [('terrible', -0.0), ('horrible', -2.9296906367299043), ('brilliant', -3.3500578797088085), ('dreadful', -3.5104765440676475), ('pathetic', -3.9560755572320176), ('superb', -3.96484954071647), ('horrendous', -4.045192609826434), ('bad', -4.09121739102846), ('phenomenal', -4.183138581263257), ('marvelous', -4.19462655986033)]\n",
      "\n"
     ]
    }
   ],
   "source": [
    "for review_i, review in enumerate(input_dataset * iterations):\n",
    "    for target_i in range(len(review)):\n",
    "        target_samples = [review[target_i]] + list(concatenated[(np.random.rand(negative)*len(concatenated)).astype('int').tolist()])\n",
    "        left_context = review[max(0, target_i-window):target_i]\n",
    "        right_context = review[target_i+1:min(len(review), target_i+window)]\n",
    "    \n",
    "        layer_1 = np.mean(weights_0_1[left_context+right_context], axis=0)\n",
    "        layer_2 = sigmoid(layer_1.dot(weights_1_2[target_samples].T))\n",
    "        layer_2_delta = layer_2 - layer_2_target\n",
    "        layer_1_delta = layer_2_delta.dot(weights_1_2[target_samples])\n",
    "        \n",
    "        weights_0_1[left_context+right_context] -= layer_1_delta * alpha\n",
    "        weights_1_2[target_samples] -= np.outer(layer_2_delta, layer_1) * alpha\n",
    "        \n",
    "    if review_i % 250 == 0:\n",
    "        print(\"Progress:%f %s\\n\" % (review_i / len(input_dataset * iterations), str(similar('terrible'))))"
   ]
  },
  {
   "cell_type": "code",
   "execution_count": 34,
   "metadata": {},
   "outputs": [],
   "source": [
    "# Word analogies"
   ]
  },
  {
   "cell_type": "code",
   "execution_count": 35,
   "metadata": {},
   "outputs": [],
   "source": [
    "def analogy(positive, negative):\n",
    "    norms = np.sum(weights_0_1 ** 2, axis=1)\n",
    "    norms.resize(norms.shape[0], 1)\n",
    "    normed_weights = weights_0_1 * norms\n",
    "    \n",
    "    query_vector = np.zeros(len(weights_0_1[0]))\n",
    "    for word in positive:\n",
    "        query_vector += normed_weights[word2index[word]]\n",
    "    for word in negative:\n",
    "        query_vector -= normed_weights[word2index[word]]\n",
    "    \n",
    "    scores = Counter()\n",
    "    for word, i in word2index.items():\n",
    "        raw_difference = weights_0_1[i] - query_vector\n",
    "        squared_difference = raw_difference ** 2\n",
    "        scores[word] = -math.sqrt(sum(squared_difference))\n",
    "    \n",
    "    return scores.most_common(10)"
   ]
  },
  {
   "cell_type": "code",
   "execution_count": 36,
   "metadata": {},
   "outputs": [
    {
     "data": {
      "text/plain": [
       "[('decent', -189.24497218630245),\n",
       " ('good', -189.40364931412063),\n",
       " ('worth', -189.477782315034),\n",
       " ('fine', -189.67257301754123),\n",
       " ('worthy', -189.7716826248772),\n",
       " ('pleasant', -189.85499939007755),\n",
       " ('superb', -189.95415512757486),\n",
       " ('perfect', -189.98373768423164),\n",
       " ('great', -189.99122355254102),\n",
       " ('nice', -190.08211662179244)]"
      ]
     },
     "execution_count": 36,
     "metadata": {},
     "output_type": "execute_result"
    }
   ],
   "source": [
    "analogy(['terrible', 'good'], ['bad'])"
   ]
  },
  {
   "cell_type": "code",
   "execution_count": 37,
   "metadata": {},
   "outputs": [
    {
     "data": {
      "text/plain": [
       "[('he', -206.749151932014),\n",
       " ('she', -209.28216527020243),\n",
       " ('it', -209.4725124569001),\n",
       " ('role', -209.6277016546557),\n",
       " ('ms', -209.65087721617894),\n",
       " ('been', -209.73320552006405),\n",
       " ('william', -209.77147411228708),\n",
       " ('someone', -209.89069281525587),\n",
       " ('lee', -209.89793083449314),\n",
       " ('heston', -209.91020568842728)]"
      ]
     },
     "execution_count": 37,
     "metadata": {},
     "output_type": "execute_result"
    }
   ],
   "source": [
    "analogy(['elizabeth', 'he'], ['she'])"
   ]
  },
  {
   "cell_type": "code",
   "execution_count": null,
   "metadata": {},
   "outputs": [],
   "source": []
  }
 ],
 "metadata": {
  "kernelspec": {
   "display_name": "Python 3",
   "language": "python",
   "name": "python3"
  },
  "language_info": {
   "codemirror_mode": {
    "name": "ipython",
    "version": 3
   },
   "file_extension": ".py",
   "mimetype": "text/x-python",
   "name": "python",
   "nbconvert_exporter": "python",
   "pygments_lexer": "ipython3",
   "version": "3.7.4"
  }
 },
 "nbformat": 4,
 "nbformat_minor": 2
}
