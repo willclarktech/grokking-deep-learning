{
 "cells": [
  {
   "cell_type": "code",
   "execution_count": 1,
   "metadata": {},
   "outputs": [],
   "source": [
    "# Derivatives"
   ]
  },
  {
   "cell_type": "code",
   "execution_count": 2,
   "metadata": {},
   "outputs": [
    {
     "name": "stderr",
     "output_type": "stream",
     "text": [
      "Using TensorFlow backend.\n"
     ]
    }
   ],
   "source": [
    "import numpy as np\n",
    "from keras.datasets import mnist"
   ]
  },
  {
   "cell_type": "code",
   "execution_count": 3,
   "metadata": {},
   "outputs": [],
   "source": [
    "np.random.seed(1)"
   ]
  },
  {
   "cell_type": "code",
   "execution_count": 4,
   "metadata": {},
   "outputs": [],
   "source": [
    "(x_train, y_train), (x_test, y_test) = mnist.load_data()"
   ]
  },
  {
   "cell_type": "code",
   "execution_count": 5,
   "metadata": {},
   "outputs": [],
   "source": [
    "images = x_train[0:1000].reshape(1000, 28*28) / 255\n",
    "labels = y_train[0:1000]\n",
    "one_hot_labels = np.zeros((len(labels), 10))\n",
    "for i, l in enumerate(labels):\n",
    "    one_hot_labels[i][l] = 1\n",
    "labels = one_hot_labels"
   ]
  },
  {
   "cell_type": "code",
   "execution_count": 6,
   "metadata": {},
   "outputs": [],
   "source": [
    "test_images = x_test.reshape(len(x_test), 28*28) / 255\n",
    "test_labels = np.zeros((len(y_test), 10))\n",
    "for i, l in enumerate(y_test):\n",
    "    test_labels[i][l] = 1"
   ]
  },
  {
   "cell_type": "code",
   "execution_count": 7,
   "metadata": {},
   "outputs": [],
   "source": [
    "def tanh(x):\n",
    "    return np.tanh(x)\n",
    "def tanh2deriv(output):\n",
    "    return 1 - (output ** 2)"
   ]
  },
  {
   "cell_type": "code",
   "execution_count": 8,
   "metadata": {},
   "outputs": [],
   "source": [
    "def softmax(x):\n",
    "    temp = np.exp(x)\n",
    "    return temp / np.sum(temp, axis=1, keepdims=True)"
   ]
  },
  {
   "cell_type": "code",
   "execution_count": 9,
   "metadata": {},
   "outputs": [],
   "source": [
    "alpha = 2\n",
    "iterations = 300\n",
    "hidden_size = 100\n",
    "pixels_per_image = 784\n",
    "num_labels = 10\n",
    "batch_size = 100"
   ]
  },
  {
   "cell_type": "code",
   "execution_count": 10,
   "metadata": {},
   "outputs": [],
   "source": [
    "weights_0_1 = 0.02 * np.random.random((pixels_per_image, hidden_size)) - 0.01\n",
    "weights_1_2 = 0.2 * np.random.random((hidden_size, num_labels)) - 0.1"
   ]
  },
  {
   "cell_type": "code",
   "execution_count": 11,
   "metadata": {},
   "outputs": [
    {
     "name": "stdout",
     "output_type": "stream",
     "text": [
      "I:9 Test acc:0.6882 Train acc:0.725\n",
      "I:19 Test acc:0.7003 Train acc:0.725\n",
      "I:29 Test acc:0.7289 Train acc:0.766\n",
      "I:39 Test acc:0.7634 Train acc:0.809\n",
      "I:49 Test acc:0.7899 Train acc:0.819\n",
      "I:59 Test acc:0.8078 Train acc:0.849\n",
      "I:69 Test acc:0.8221 Train acc:0.856\n",
      "I:79 Test acc:0.8303 Train acc:0.874\n",
      "I:89 Test acc:0.836 Train acc:0.887\n",
      "I:99 Test acc:0.8403 Train acc:0.891\n",
      "I:109 Test acc:0.8447 Train acc:0.889\n",
      "I:119 Test acc:0.8483 Train acc:0.896\n",
      "I:129 Test acc:0.8494 Train acc:0.902\n",
      "I:139 Test acc:0.8521 Train acc:0.909\n",
      "I:149 Test acc:0.8549 Train acc:0.915\n",
      "I:159 Test acc:0.8573 Train acc:0.92\n",
      "I:169 Test acc:0.859 Train acc:0.923\n",
      "I:179 Test acc:0.8627 Train acc:0.932\n",
      "I:189 Test acc:0.8624 Train acc:0.929\n",
      "I:199 Test acc:0.8634 Train acc:0.923\n",
      "I:209 Test acc:0.8648 Train acc:0.934\n",
      "I:219 Test acc:0.8663 Train acc:0.94\n",
      "I:229 Test acc:0.8666 Train acc:0.935\n",
      "I:239 Test acc:0.8677 Train acc:0.945\n",
      "I:249 Test acc:0.8685 Train acc:0.94\n",
      "I:259 Test acc:0.8691 Train acc:0.933\n",
      "I:269 Test acc:0.8704 Train acc:0.953\n",
      "I:279 Test acc:0.8698 Train acc:0.944\n",
      "I:289 Test acc:0.8698 Train acc:0.948\n",
      "I:299 Test acc:0.8706 Train acc:0.953\n"
     ]
    }
   ],
   "source": [
    "for j in range(iterations):\n",
    "    correct_count = 0\n",
    "    for i in range(len(images) // batch_size):\n",
    "        batch_start = batch_size * i\n",
    "        batch_end = batch_size * (i+1)\n",
    "        layer_0 = images[batch_start:batch_end]\n",
    "        layer_1 = tanh(np.dot(layer_0, weights_0_1))\n",
    "        dropout_mask = np.random.randint(2, size=layer_1.shape)\n",
    "        layer_1 *= dropout_mask * 2\n",
    "        layer_2 = softmax(np.dot(layer_1, weights_1_2))\n",
    "        \n",
    "        for k in range(batch_size):\n",
    "            correct_count += np.argmax(layer_2[k:k+1]) == np.argmax(labels[batch_start+k:batch_start+k+1])\n",
    "        \n",
    "        layer_2_delta = (layer_2 - labels[batch_start:batch_end]) / (batch_size * layer_2.shape[0])\n",
    "        layer_1_delta = layer_2_delta.dot(weights_1_2.T) * tanh2deriv(layer_1)\n",
    "        layer_1_delta *= dropout_mask\n",
    "        \n",
    "        weights_1_2 -= alpha * layer_1.T.dot(layer_2_delta)\n",
    "        weights_0_1 -= alpha * layer_0.T.dot(layer_1_delta)\n",
    "    \n",
    "    test_correct_count = 0\n",
    "    for i in range(len(test_images)):\n",
    "        layer_0 = test_images[i:i+1]\n",
    "        layer_1 = tanh(np.dot(layer_0, weights_0_1))\n",
    "        layer_2 = np.dot(layer_1, weights_1_2)\n",
    "        test_correct_count += np.argmax(layer_2) == np.argmax(test_labels[i:i+1])\n",
    "    \n",
    "    if j % 10 == 9:\n",
    "        print(\"I:\" + str(j) + \" Test acc:\" + str(test_correct_count/len(test_images)) + \" Train acc:\" + str(correct_count / len(images)))"
   ]
  },
  {
   "cell_type": "code",
   "execution_count": null,
   "metadata": {},
   "outputs": [],
   "source": []
  }
 ],
 "metadata": {
  "kernelspec": {
   "display_name": "Python 3",
   "language": "python",
   "name": "python3"
  },
  "language_info": {
   "codemirror_mode": {
    "name": "ipython",
    "version": 3
   },
   "file_extension": ".py",
   "mimetype": "text/x-python",
   "name": "python",
   "nbconvert_exporter": "python",
   "pygments_lexer": "ipython3",
   "version": "3.7.4"
  }
 },
 "nbformat": 4,
 "nbformat_minor": 2
}
